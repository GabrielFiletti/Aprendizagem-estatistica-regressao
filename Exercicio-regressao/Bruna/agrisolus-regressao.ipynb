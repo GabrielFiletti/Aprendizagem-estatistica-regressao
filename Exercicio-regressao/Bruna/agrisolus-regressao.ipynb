{
 "cells": [
  {
   "cell_type": "markdown",
   "metadata": {},
   "source": [
    "## *Bruna Fortunato*\n",
    "\n",
    "Objetivo 1: aplicar o algoritmo de decision tree para realizar uma regressão linear nos dados da Agrisolus.\n",
    "\n",
    "Objetivo 2: aplicar a regularização no modelo."
   ]
  },
  {
   "cell_type": "code",
   "execution_count": 1,
   "metadata": {},
   "outputs": [],
   "source": [
    "### Bibliotecas Principais"
   ]
  },
  {
   "cell_type": "code",
   "execution_count": 2,
   "metadata": {},
   "outputs": [],
   "source": [
    "import pandas as pd \n",
    "import numpy as np \n",
    "import matplotlib.pyplot as plt \n",
    "from sklearn.linear_model import LinearRegression, Ridge, Lasso \n",
    "from sklearn.model_selection import train_test_split, cross_val_score \n",
    "from statistics import mean \n",
    "\n",
    "import matplotlib.pyplot as plt\n",
    "\n",
    "import pandas as pd\n",
    "import numpy as np\n",
    "import seaborn as sns; sns.set()\n",
    "\n",
    "import math\n",
    "\n",
    "from matplotlib import pyplot as plt\n",
    "from datetime import datetime, timedelta\n",
    "from scipy.interpolate import interp1d\n",
    "from numpy import median\n",
    "\n",
    "from sklearn.model_selection import train_test_split\n",
    "import numpy as np\n",
    "from sklearn.linear_model import LinearRegression\n",
    "from sklearn.metrics import mean_squared_error\n",
    "from sklearn.metrics import mean_absolute_error\n",
    "from sklearn.tree import DecisionTreeRegressor  \n",
    "from sklearn.metrics import r2_score\n",
    "\n",
    "from sklearn.preprocessing import scale \n",
    "from sklearn.model_selection import train_test_split\n",
    "from sklearn.linear_model import Ridge, RidgeCV, Lasso, LassoCV\n",
    "from sklearn.metrics import mean_squared_error\n"
   ]
  },
  {
   "cell_type": "markdown",
   "metadata": {},
   "source": [
    "### Bancos de Dados Agrisolus"
   ]
  },
  {
   "cell_type": "code",
   "execution_count": 3,
   "metadata": {},
   "outputs": [],
   "source": [
    "# url para os dados brutos, deixados em um arquivo local e no MS Teams da sprint\n",
    "\n",
    "url_agrisolus = '/home/hub/Repositorio_aula1/2 Sprint Aulas/4-Regressao_aula _agrisolus_bosch/agrisolus/agrisolus.csv'\n",
    "\n"
   ]
  },
  {
   "cell_type": "markdown",
   "metadata": {},
   "source": [
    "### Leitura dos Banco de Dados\n",
    "\n",
    "* Objetivo Geral: Previsao de pesos\n",
    "    * Objetivo de específico: Entro com umidade, idbalança, temperatura e o algoritmo retorna o peso\n",
    "\n",
    "        df_linhagens = Banco de dados das linhagens contando PesoEsperado para uma certa Idade e o IdLinhagem \n",
    "\n",
    "        df_lotes = Banco de dados das datas de alojamento com linhagens, peso na chegada e a data de abate   (controle dos lotes)\n",
    "\n",
    "        df_pesos = Pesagens feitas qdo o frango sobe na balança, tambem mede umidade, temperatura, lote unidade, id da balanda e a data da pesagem (o que é esperado ver aqui é a curva de crescimento do frango)\n",
    "        \n",
    "        df_agrisolus = Banco de dados tratado pelo HUB\n",
    "\n",
    "\n"
   ]
  },
  {
   "cell_type": "markdown",
   "metadata": {},
   "source": [
    "## Análises Preliminares : Conhecendo o Banco de dados Agrisolus"
   ]
  },
  {
   "cell_type": "markdown",
   "metadata": {},
   "source": [
    "* Exibindo o Banco de Dados para visualização das instâncias de cada classe: "
   ]
  },
  {
   "cell_type": "code",
   "execution_count": 4,
   "metadata": {
    "scrolled": false
   },
   "outputs": [
    {
     "name": "stderr",
     "output_type": "stream",
     "text": [
      "/home/hub/anaconda3/envs/fiep/lib/python3.7/site-packages/numpy/lib/arraysetops.py:569: FutureWarning: elementwise comparison failed; returning scalar instead, but in the future will perform elementwise comparison\n",
      "  mask |= (ar1 == a)\n"
     ]
    },
    {
     "data": {
      "text/html": [
       "<div>\n",
       "<style scoped>\n",
       "    .dataframe tbody tr th:only-of-type {\n",
       "        vertical-align: middle;\n",
       "    }\n",
       "\n",
       "    .dataframe tbody tr th {\n",
       "        vertical-align: top;\n",
       "    }\n",
       "\n",
       "    .dataframe thead th {\n",
       "        text-align: right;\n",
       "    }\n",
       "</style>\n",
       "<table border=\"1\" class=\"dataframe\">\n",
       "  <thead>\n",
       "    <tr style=\"text-align: right;\">\n",
       "      <th></th>\n",
       "      <th>Data</th>\n",
       "      <th>Peso</th>\n",
       "      <th>Umidade</th>\n",
       "      <th>Temperatura</th>\n",
       "      <th>idLote</th>\n",
       "      <th>idLinhagem</th>\n",
       "      <th>idBalanca</th>\n",
       "      <th>DataAlojamento</th>\n",
       "      <th>Sexo</th>\n",
       "      <th>PesoChegada</th>\n",
       "      <th>DataAbate</th>\n",
       "      <th>Idade</th>\n",
       "      <th>PesoEsperado</th>\n",
       "      <th>DiffPeso</th>\n",
       "    </tr>\n",
       "  </thead>\n",
       "  <tbody>\n",
       "    <tr>\n",
       "      <th>0</th>\n",
       "      <td>2019-04-06 07:10:35</td>\n",
       "      <td>20.5748</td>\n",
       "      <td>0.0</td>\n",
       "      <td>0.0</td>\n",
       "      <td>2</td>\n",
       "      <td>15</td>\n",
       "      <td>2843900</td>\n",
       "      <td>2019-04-06 06:30:00</td>\n",
       "      <td>Fêmeas Cobb MV GT Foods</td>\n",
       "      <td>38.0</td>\n",
       "      <td>2019-05-25 09:30:00</td>\n",
       "      <td>0</td>\n",
       "      <td>42.0</td>\n",
       "      <td>-21.4252</td>\n",
       "    </tr>\n",
       "    <tr>\n",
       "      <th>1</th>\n",
       "      <td>2019-04-06 07:10:43</td>\n",
       "      <td>42.5538</td>\n",
       "      <td>68.2</td>\n",
       "      <td>32.1</td>\n",
       "      <td>2</td>\n",
       "      <td>15</td>\n",
       "      <td>2861839</td>\n",
       "      <td>2019-04-06 06:30:00</td>\n",
       "      <td>Fêmeas Cobb MV GT Foods</td>\n",
       "      <td>38.0</td>\n",
       "      <td>2019-05-25 09:30:00</td>\n",
       "      <td>0</td>\n",
       "      <td>42.0</td>\n",
       "      <td>0.5538</td>\n",
       "    </tr>\n",
       "    <tr>\n",
       "      <th>2</th>\n",
       "      <td>2019-04-06 07:10:58</td>\n",
       "      <td>33.6798</td>\n",
       "      <td>67.9</td>\n",
       "      <td>32.1</td>\n",
       "      <td>2</td>\n",
       "      <td>15</td>\n",
       "      <td>2861839</td>\n",
       "      <td>2019-04-06 06:30:00</td>\n",
       "      <td>Fêmeas Cobb MV GT Foods</td>\n",
       "      <td>38.0</td>\n",
       "      <td>2019-05-25 09:30:00</td>\n",
       "      <td>0</td>\n",
       "      <td>42.0</td>\n",
       "      <td>-8.3202</td>\n",
       "    </tr>\n",
       "    <tr>\n",
       "      <th>3</th>\n",
       "      <td>2019-04-06 07:12:12</td>\n",
       "      <td>25.7238</td>\n",
       "      <td>68.6</td>\n",
       "      <td>32.1</td>\n",
       "      <td>2</td>\n",
       "      <td>15</td>\n",
       "      <td>2861839</td>\n",
       "      <td>2019-04-06 06:30:00</td>\n",
       "      <td>Fêmeas Cobb MV GT Foods</td>\n",
       "      <td>38.0</td>\n",
       "      <td>2019-05-25 09:30:00</td>\n",
       "      <td>0</td>\n",
       "      <td>42.0</td>\n",
       "      <td>-16.2762</td>\n",
       "    </tr>\n",
       "    <tr>\n",
       "      <th>4</th>\n",
       "      <td>2019-04-06 07:13:19</td>\n",
       "      <td>39.4938</td>\n",
       "      <td>68.8</td>\n",
       "      <td>32.0</td>\n",
       "      <td>2</td>\n",
       "      <td>15</td>\n",
       "      <td>2861839</td>\n",
       "      <td>2019-04-06 06:30:00</td>\n",
       "      <td>Fêmeas Cobb MV GT Foods</td>\n",
       "      <td>38.0</td>\n",
       "      <td>2019-05-25 09:30:00</td>\n",
       "      <td>0</td>\n",
       "      <td>42.0</td>\n",
       "      <td>-2.5062</td>\n",
       "    </tr>\n",
       "  </tbody>\n",
       "</table>\n",
       "</div>"
      ],
      "text/plain": [
       "                  Data     Peso  Umidade  Temperatura  idLote  idLinhagem  \\\n",
       "0  2019-04-06 07:10:35  20.5748      0.0          0.0       2          15   \n",
       "1  2019-04-06 07:10:43  42.5538     68.2         32.1       2          15   \n",
       "2  2019-04-06 07:10:58  33.6798     67.9         32.1       2          15   \n",
       "3  2019-04-06 07:12:12  25.7238     68.6         32.1       2          15   \n",
       "4  2019-04-06 07:13:19  39.4938     68.8         32.0       2          15   \n",
       "\n",
       "   idBalanca       DataAlojamento                     Sexo  PesoChegada  \\\n",
       "0    2843900  2019-04-06 06:30:00  Fêmeas Cobb MV GT Foods         38.0   \n",
       "1    2861839  2019-04-06 06:30:00  Fêmeas Cobb MV GT Foods         38.0   \n",
       "2    2861839  2019-04-06 06:30:00  Fêmeas Cobb MV GT Foods         38.0   \n",
       "3    2861839  2019-04-06 06:30:00  Fêmeas Cobb MV GT Foods         38.0   \n",
       "4    2861839  2019-04-06 06:30:00  Fêmeas Cobb MV GT Foods         38.0   \n",
       "\n",
       "             DataAbate  Idade  PesoEsperado  DiffPeso  \n",
       "0  2019-05-25 09:30:00      0          42.0  -21.4252  \n",
       "1  2019-05-25 09:30:00      0          42.0    0.5538  \n",
       "2  2019-05-25 09:30:00      0          42.0   -8.3202  \n",
       "3  2019-05-25 09:30:00      0          42.0  -16.2762  \n",
       "4  2019-05-25 09:30:00      0          42.0   -2.5062  "
      ]
     },
     "execution_count": 4,
     "metadata": {},
     "output_type": "execute_result"
    }
   ],
   "source": [
    "df_agrisolus = pd.read_csv(url_agrisolus, sep=';', index_col = 0) #carrega o BD\n",
    "\n",
    "df_agrisolus.head()   #Visualiza as 5 primeiras linhas do BD Agrisolus\n"
   ]
  },
  {
   "cell_type": "markdown",
   "metadata": {},
   "source": [
    "* Observando o tamanho do banco de dados de forma Geral :"
   ]
  },
  {
   "cell_type": "code",
   "execution_count": 5,
   "metadata": {},
   "outputs": [
    {
     "data": {
      "text/plain": [
       "(2075588, 14)"
      ]
     },
     "execution_count": 5,
     "metadata": {},
     "output_type": "execute_result"
    }
   ],
   "source": [
    "df_agrisolus.shape"
   ]
  },
  {
   "cell_type": "markdown",
   "metadata": {},
   "source": [
    "* Observando os Id registrados por Lote:"
   ]
  },
  {
   "cell_type": "code",
   "execution_count": 6,
   "metadata": {},
   "outputs": [
    {
     "data": {
      "text/plain": [
       "array([2, 1])"
      ]
     },
     "execution_count": 6,
     "metadata": {},
     "output_type": "execute_result"
    }
   ],
   "source": [
    "pd.unique(df_agrisolus['idLote'])"
   ]
  },
  {
   "cell_type": "markdown",
   "metadata": {},
   "source": [
    "* Observando os Id registrados por Linhagem: "
   ]
  },
  {
   "cell_type": "code",
   "execution_count": 7,
   "metadata": {},
   "outputs": [
    {
     "data": {
      "text/plain": [
       "array([15, 16])"
      ]
     },
     "execution_count": 7,
     "metadata": {},
     "output_type": "execute_result"
    }
   ],
   "source": [
    "pd.unique(df_agrisolus['idLinhagem'])\n"
   ]
  },
  {
   "cell_type": "markdown",
   "metadata": {},
   "source": [
    "* Agrupando os dados por idLote e idLinhagem "
   ]
  },
  {
   "cell_type": "code",
   "execution_count": 8,
   "metadata": {},
   "outputs": [
    {
     "data": {
      "text/plain": [
       "idLinhagem\n",
       "15    1091059\n",
       "16     984529\n",
       "Name: idLote, dtype: int64"
      ]
     },
     "execution_count": 8,
     "metadata": {},
     "output_type": "execute_result"
    }
   ],
   "source": [
    "id_Linhagem_lote = df_agrisolus.groupby('idLinhagem')['idLote'].count()\n",
    "\n",
    "id_Linhagem_lote\n",
    "\n",
    "#Temos para linhagem 15 1091059 lotes e para a linhagem 16, 984529 lotes"
   ]
  },
  {
   "cell_type": "markdown",
   "metadata": {},
   "source": [
    "* Agrupando os dados de Sexo por Lote:"
   ]
  },
  {
   "cell_type": "code",
   "execution_count": 9,
   "metadata": {},
   "outputs": [
    {
     "data": {
      "text/plain": [
       "Sexo\n",
       "Fêmeas Cobb MV GT Foods    1091059\n",
       "Mistos Cobb MV GT Foods     984529\n",
       "Name: idLote, dtype: int64"
      ]
     },
     "execution_count": 9,
     "metadata": {},
     "output_type": "execute_result"
    }
   ],
   "source": [
    "id_Sexo_lote = df_agrisolus.groupby('Sexo')['idLote'].count()\n",
    "\n",
    "id_Sexo_lote"
   ]
  },
  {
   "cell_type": "markdown",
   "metadata": {},
   "source": [
    "* Agrupando os dados de Sexo por Linhagem:"
   ]
  },
  {
   "cell_type": "code",
   "execution_count": 10,
   "metadata": {},
   "outputs": [
    {
     "data": {
      "text/plain": [
       "Sexo\n",
       "Fêmeas Cobb MV GT Foods    1091059\n",
       "Mistos Cobb MV GT Foods     984529\n",
       "Name: idLinhagem, dtype: int64"
      ]
     },
     "execution_count": 10,
     "metadata": {},
     "output_type": "execute_result"
    }
   ],
   "source": [
    "id_Sexo_linhagem = df_agrisolus.groupby('Sexo')['idLinhagem'].count()\n",
    "\n",
    "id_Sexo_linhagem"
   ]
  },
  {
   "cell_type": "markdown",
   "metadata": {},
   "source": [
    "* Transformando os estados de uma coluna para utilizar como target em um modelo, por exemplo"
   ]
  },
  {
   "cell_type": "code",
   "execution_count": 11,
   "metadata": {},
   "outputs": [
    {
     "data": {
      "text/plain": [
       "array(['Fêmeas Cobb MV GT Foods', 'Mistos Cobb MV GT Foods'], dtype=object)"
      ]
     },
     "execution_count": 11,
     "metadata": {},
     "output_type": "execute_result"
    }
   ],
   "source": [
    "pd.unique(df_agrisolus['Sexo'])"
   ]
  },
  {
   "cell_type": "markdown",
   "metadata": {},
   "source": [
    "* Temos dois estados, quantos dados registrados de Peso de Chegada temos para cada um?"
   ]
  },
  {
   "cell_type": "code",
   "execution_count": 12,
   "metadata": {},
   "outputs": [
    {
     "data": {
      "text/plain": [
       "idBalanca\n",
       "2843680    492806\n",
       "2843900    481982\n",
       "2848352    491723\n",
       "2861839    609077\n",
       "Name: PesoChegada, dtype: int64"
      ]
     },
     "execution_count": 12,
     "metadata": {},
     "output_type": "execute_result"
    }
   ],
   "source": [
    "df_agrisolus.groupby('idBalanca')['PesoChegada'].count()\n"
   ]
  },
  {
   "cell_type": "code",
   "execution_count": 13,
   "metadata": {},
   "outputs": [
    {
     "data": {
      "text/plain": [
       "idLinhagem\n",
       "15    1091059\n",
       "16     984529\n",
       "Name: idLinhagem, dtype: int64"
      ]
     },
     "execution_count": 13,
     "metadata": {},
     "output_type": "execute_result"
    }
   ],
   "source": [
    "df_agrisolus.groupby('idLinhagem')['idLinhagem'].count()"
   ]
  },
  {
   "cell_type": "markdown",
   "metadata": {},
   "source": [
    "## Conclusões Gerais"
   ]
  },
  {
   "cell_type": "code",
   "execution_count": 14,
   "metadata": {},
   "outputs": [
    {
     "data": {
      "text/html": [
       "<div>\n",
       "<style scoped>\n",
       "    .dataframe tbody tr th:only-of-type {\n",
       "        vertical-align: middle;\n",
       "    }\n",
       "\n",
       "    .dataframe tbody tr th {\n",
       "        vertical-align: top;\n",
       "    }\n",
       "\n",
       "    .dataframe thead th {\n",
       "        text-align: right;\n",
       "    }\n",
       "</style>\n",
       "<table border=\"1\" class=\"dataframe\">\n",
       "  <thead>\n",
       "    <tr style=\"text-align: right;\">\n",
       "      <th></th>\n",
       "      <th>Tipos de Lote</th>\n",
       "      <th>Tipos de Linhagem</th>\n",
       "      <th>Linhagem por Lote</th>\n",
       "      <th>Peso de Chegada por Linhagem</th>\n",
       "    </tr>\n",
       "  </thead>\n",
       "  <tbody>\n",
       "    <tr>\n",
       "      <th>0</th>\n",
       "      <td>1</td>\n",
       "      <td>15</td>\n",
       "      <td>1091059</td>\n",
       "      <td>1091059</td>\n",
       "    </tr>\n",
       "    <tr>\n",
       "      <th>1</th>\n",
       "      <td>2</td>\n",
       "      <td>16</td>\n",
       "      <td>984529</td>\n",
       "      <td>984529</td>\n",
       "    </tr>\n",
       "  </tbody>\n",
       "</table>\n",
       "</div>"
      ],
      "text/plain": [
       "   Tipos de Lote  Tipos de Linhagem  Linhagem por Lote  \\\n",
       "0              1                 15            1091059   \n",
       "1              2                 16             984529   \n",
       "\n",
       "   Peso de Chegada por Linhagem  \n",
       "0                       1091059  \n",
       "1                        984529  "
      ]
     },
     "execution_count": 14,
     "metadata": {},
     "output_type": "execute_result"
    }
   ],
   "source": [
    "d = {'Tipos de Lote': [1, 2], 'Tipos de Linhagem': [15, 16], 'Linhagem por Lote': [1091059,984529], 'Peso de Chegada por Linhagem':[1091059, 984529]}\n",
    "df = pd.DataFrame(data=d)\n",
    "\n",
    "df"
   ]
  },
  {
   "cell_type": "markdown",
   "metadata": {},
   "source": [
    "*Conclusão:* Existe uma distribuição entre dados por lote mais ou menos uniforme, ou seja 984529 medidos para a Linhagem 16 e 1091059 dados para a Linhagem 15 "
   ]
  },
  {
   "cell_type": "markdown",
   "metadata": {},
   "source": [
    "## Etapa : Tratamento dos Dados"
   ]
  },
  {
   "cell_type": "code",
   "execution_count": 15,
   "metadata": {},
   "outputs": [
    {
     "data": {
      "text/html": [
       "<div>\n",
       "<style scoped>\n",
       "    .dataframe tbody tr th:only-of-type {\n",
       "        vertical-align: middle;\n",
       "    }\n",
       "\n",
       "    .dataframe tbody tr th {\n",
       "        vertical-align: top;\n",
       "    }\n",
       "\n",
       "    .dataframe thead th {\n",
       "        text-align: right;\n",
       "    }\n",
       "</style>\n",
       "<table border=\"1\" class=\"dataframe\">\n",
       "  <thead>\n",
       "    <tr style=\"text-align: right;\">\n",
       "      <th></th>\n",
       "      <th>Data</th>\n",
       "      <th>Peso</th>\n",
       "      <th>Umidade</th>\n",
       "      <th>Temperatura</th>\n",
       "      <th>idLote</th>\n",
       "      <th>idLinhagem</th>\n",
       "      <th>idBalanca</th>\n",
       "      <th>DataAlojamento</th>\n",
       "      <th>Sexo</th>\n",
       "      <th>PesoChegada</th>\n",
       "      <th>DataAbate</th>\n",
       "      <th>Idade</th>\n",
       "      <th>PesoEsperado</th>\n",
       "      <th>DiffPeso</th>\n",
       "    </tr>\n",
       "  </thead>\n",
       "  <tbody>\n",
       "    <tr>\n",
       "      <th>0</th>\n",
       "      <td>2019-04-06 07:10:35</td>\n",
       "      <td>20.5748</td>\n",
       "      <td>0.0</td>\n",
       "      <td>0.0</td>\n",
       "      <td>2</td>\n",
       "      <td>15</td>\n",
       "      <td>2843900</td>\n",
       "      <td>2019-04-06 06:30:00</td>\n",
       "      <td>Fêmeas Cobb MV GT Foods</td>\n",
       "      <td>38.0</td>\n",
       "      <td>2019-05-25 09:30:00</td>\n",
       "      <td>0</td>\n",
       "      <td>42.000000</td>\n",
       "      <td>-21.425200</td>\n",
       "    </tr>\n",
       "    <tr>\n",
       "      <th>1</th>\n",
       "      <td>2019-04-06 07:10:43</td>\n",
       "      <td>42.5538</td>\n",
       "      <td>68.2</td>\n",
       "      <td>32.1</td>\n",
       "      <td>2</td>\n",
       "      <td>15</td>\n",
       "      <td>2861839</td>\n",
       "      <td>2019-04-06 06:30:00</td>\n",
       "      <td>Fêmeas Cobb MV GT Foods</td>\n",
       "      <td>38.0</td>\n",
       "      <td>2019-05-25 09:30:00</td>\n",
       "      <td>0</td>\n",
       "      <td>42.000000</td>\n",
       "      <td>0.553800</td>\n",
       "    </tr>\n",
       "    <tr>\n",
       "      <th>2</th>\n",
       "      <td>2019-04-06 07:10:58</td>\n",
       "      <td>33.6798</td>\n",
       "      <td>67.9</td>\n",
       "      <td>32.1</td>\n",
       "      <td>2</td>\n",
       "      <td>15</td>\n",
       "      <td>2861839</td>\n",
       "      <td>2019-04-06 06:30:00</td>\n",
       "      <td>Fêmeas Cobb MV GT Foods</td>\n",
       "      <td>38.0</td>\n",
       "      <td>2019-05-25 09:30:00</td>\n",
       "      <td>0</td>\n",
       "      <td>42.000000</td>\n",
       "      <td>-8.320200</td>\n",
       "    </tr>\n",
       "    <tr>\n",
       "      <th>3</th>\n",
       "      <td>2019-04-06 07:12:12</td>\n",
       "      <td>25.7238</td>\n",
       "      <td>68.6</td>\n",
       "      <td>32.1</td>\n",
       "      <td>2</td>\n",
       "      <td>15</td>\n",
       "      <td>2861839</td>\n",
       "      <td>2019-04-06 06:30:00</td>\n",
       "      <td>Fêmeas Cobb MV GT Foods</td>\n",
       "      <td>38.0</td>\n",
       "      <td>2019-05-25 09:30:00</td>\n",
       "      <td>0</td>\n",
       "      <td>42.000000</td>\n",
       "      <td>-16.276200</td>\n",
       "    </tr>\n",
       "    <tr>\n",
       "      <th>4</th>\n",
       "      <td>2019-04-06 07:13:19</td>\n",
       "      <td>39.4938</td>\n",
       "      <td>68.8</td>\n",
       "      <td>32.0</td>\n",
       "      <td>2</td>\n",
       "      <td>15</td>\n",
       "      <td>2861839</td>\n",
       "      <td>2019-04-06 06:30:00</td>\n",
       "      <td>Fêmeas Cobb MV GT Foods</td>\n",
       "      <td>38.0</td>\n",
       "      <td>2019-05-25 09:30:00</td>\n",
       "      <td>0</td>\n",
       "      <td>42.000000</td>\n",
       "      <td>-2.506200</td>\n",
       "    </tr>\n",
       "    <tr>\n",
       "      <th>...</th>\n",
       "      <td>...</td>\n",
       "      <td>...</td>\n",
       "      <td>...</td>\n",
       "      <td>...</td>\n",
       "      <td>...</td>\n",
       "      <td>...</td>\n",
       "      <td>...</td>\n",
       "      <td>...</td>\n",
       "      <td>...</td>\n",
       "      <td>...</td>\n",
       "      <td>...</td>\n",
       "      <td>...</td>\n",
       "      <td>...</td>\n",
       "      <td>...</td>\n",
       "    </tr>\n",
       "    <tr>\n",
       "      <th>2075583</th>\n",
       "      <td>2019-05-23 23:56:53</td>\n",
       "      <td>5233.9554</td>\n",
       "      <td>0.0</td>\n",
       "      <td>0.0</td>\n",
       "      <td>2</td>\n",
       "      <td>15</td>\n",
       "      <td>2843900</td>\n",
       "      <td>2019-04-06 06:30:00</td>\n",
       "      <td>Fêmeas Cobb MV GT Foods</td>\n",
       "      <td>38.0</td>\n",
       "      <td>2019-05-25 09:30:00</td>\n",
       "      <td>1145</td>\n",
       "      <td>3235.825825</td>\n",
       "      <td>1998.129575</td>\n",
       "    </tr>\n",
       "    <tr>\n",
       "      <th>2075584</th>\n",
       "      <td>2019-05-23 23:56:55</td>\n",
       "      <td>5238.8098</td>\n",
       "      <td>0.0</td>\n",
       "      <td>0.0</td>\n",
       "      <td>2</td>\n",
       "      <td>15</td>\n",
       "      <td>2843900</td>\n",
       "      <td>2019-04-06 06:30:00</td>\n",
       "      <td>Fêmeas Cobb MV GT Foods</td>\n",
       "      <td>38.0</td>\n",
       "      <td>2019-05-25 09:30:00</td>\n",
       "      <td>1145</td>\n",
       "      <td>3235.825825</td>\n",
       "      <td>2002.983975</td>\n",
       "    </tr>\n",
       "    <tr>\n",
       "      <th>2075585</th>\n",
       "      <td>2019-05-23 23:56:56</td>\n",
       "      <td>5215.1446</td>\n",
       "      <td>0.0</td>\n",
       "      <td>0.0</td>\n",
       "      <td>2</td>\n",
       "      <td>15</td>\n",
       "      <td>2843900</td>\n",
       "      <td>2019-04-06 06:30:00</td>\n",
       "      <td>Fêmeas Cobb MV GT Foods</td>\n",
       "      <td>38.0</td>\n",
       "      <td>2019-05-25 09:30:00</td>\n",
       "      <td>1145</td>\n",
       "      <td>3235.825825</td>\n",
       "      <td>1979.318775</td>\n",
       "    </tr>\n",
       "    <tr>\n",
       "      <th>2075586</th>\n",
       "      <td>2019-05-23 23:56:58</td>\n",
       "      <td>5247.0016</td>\n",
       "      <td>0.0</td>\n",
       "      <td>0.0</td>\n",
       "      <td>2</td>\n",
       "      <td>15</td>\n",
       "      <td>2843900</td>\n",
       "      <td>2019-04-06 06:30:00</td>\n",
       "      <td>Fêmeas Cobb MV GT Foods</td>\n",
       "      <td>38.0</td>\n",
       "      <td>2019-05-25 09:30:00</td>\n",
       "      <td>1145</td>\n",
       "      <td>3235.825825</td>\n",
       "      <td>2011.175775</td>\n",
       "    </tr>\n",
       "    <tr>\n",
       "      <th>2075587</th>\n",
       "      <td>2019-05-23 23:57:06</td>\n",
       "      <td>5194.5134</td>\n",
       "      <td>0.0</td>\n",
       "      <td>0.0</td>\n",
       "      <td>2</td>\n",
       "      <td>15</td>\n",
       "      <td>2843900</td>\n",
       "      <td>2019-04-06 06:30:00</td>\n",
       "      <td>Fêmeas Cobb MV GT Foods</td>\n",
       "      <td>38.0</td>\n",
       "      <td>2019-05-25 09:30:00</td>\n",
       "      <td>1145</td>\n",
       "      <td>3235.825825</td>\n",
       "      <td>1958.687575</td>\n",
       "    </tr>\n",
       "  </tbody>\n",
       "</table>\n",
       "<p>2075588 rows × 14 columns</p>\n",
       "</div>"
      ],
      "text/plain": [
       "                        Data       Peso  Umidade  Temperatura  idLote  \\\n",
       "0        2019-04-06 07:10:35    20.5748      0.0          0.0       2   \n",
       "1        2019-04-06 07:10:43    42.5538     68.2         32.1       2   \n",
       "2        2019-04-06 07:10:58    33.6798     67.9         32.1       2   \n",
       "3        2019-04-06 07:12:12    25.7238     68.6         32.1       2   \n",
       "4        2019-04-06 07:13:19    39.4938     68.8         32.0       2   \n",
       "...                      ...        ...      ...          ...     ...   \n",
       "2075583  2019-05-23 23:56:53  5233.9554      0.0          0.0       2   \n",
       "2075584  2019-05-23 23:56:55  5238.8098      0.0          0.0       2   \n",
       "2075585  2019-05-23 23:56:56  5215.1446      0.0          0.0       2   \n",
       "2075586  2019-05-23 23:56:58  5247.0016      0.0          0.0       2   \n",
       "2075587  2019-05-23 23:57:06  5194.5134      0.0          0.0       2   \n",
       "\n",
       "         idLinhagem  idBalanca       DataAlojamento                     Sexo  \\\n",
       "0                15    2843900  2019-04-06 06:30:00  Fêmeas Cobb MV GT Foods   \n",
       "1                15    2861839  2019-04-06 06:30:00  Fêmeas Cobb MV GT Foods   \n",
       "2                15    2861839  2019-04-06 06:30:00  Fêmeas Cobb MV GT Foods   \n",
       "3                15    2861839  2019-04-06 06:30:00  Fêmeas Cobb MV GT Foods   \n",
       "4                15    2861839  2019-04-06 06:30:00  Fêmeas Cobb MV GT Foods   \n",
       "...             ...        ...                  ...                      ...   \n",
       "2075583          15    2843900  2019-04-06 06:30:00  Fêmeas Cobb MV GT Foods   \n",
       "2075584          15    2843900  2019-04-06 06:30:00  Fêmeas Cobb MV GT Foods   \n",
       "2075585          15    2843900  2019-04-06 06:30:00  Fêmeas Cobb MV GT Foods   \n",
       "2075586          15    2843900  2019-04-06 06:30:00  Fêmeas Cobb MV GT Foods   \n",
       "2075587          15    2843900  2019-04-06 06:30:00  Fêmeas Cobb MV GT Foods   \n",
       "\n",
       "         PesoChegada            DataAbate  Idade  PesoEsperado     DiffPeso  \n",
       "0               38.0  2019-05-25 09:30:00      0     42.000000   -21.425200  \n",
       "1               38.0  2019-05-25 09:30:00      0     42.000000     0.553800  \n",
       "2               38.0  2019-05-25 09:30:00      0     42.000000    -8.320200  \n",
       "3               38.0  2019-05-25 09:30:00      0     42.000000   -16.276200  \n",
       "4               38.0  2019-05-25 09:30:00      0     42.000000    -2.506200  \n",
       "...              ...                  ...    ...           ...          ...  \n",
       "2075583         38.0  2019-05-25 09:30:00   1145   3235.825825  1998.129575  \n",
       "2075584         38.0  2019-05-25 09:30:00   1145   3235.825825  2002.983975  \n",
       "2075585         38.0  2019-05-25 09:30:00   1145   3235.825825  1979.318775  \n",
       "2075586         38.0  2019-05-25 09:30:00   1145   3235.825825  2011.175775  \n",
       "2075587         38.0  2019-05-25 09:30:00   1145   3235.825825  1958.687575  \n",
       "\n",
       "[2075588 rows x 14 columns]"
      ]
     },
     "execution_count": 15,
     "metadata": {},
     "output_type": "execute_result"
    }
   ],
   "source": [
    "df_agrisolus"
   ]
  },
  {
   "cell_type": "markdown",
   "metadata": {},
   "source": [
    "* Conferindo o tipo de dados do Banco de Dados"
   ]
  },
  {
   "cell_type": "code",
   "execution_count": 16,
   "metadata": {},
   "outputs": [
    {
     "data": {
      "text/plain": [
       "Data               object\n",
       "Peso              float64\n",
       "Umidade           float64\n",
       "Temperatura       float64\n",
       "idLote              int64\n",
       "idLinhagem          int64\n",
       "idBalanca           int64\n",
       "DataAlojamento     object\n",
       "Sexo               object\n",
       "PesoChegada       float64\n",
       "DataAbate          object\n",
       "Idade               int64\n",
       "PesoEsperado      float64\n",
       "DiffPeso          float64\n",
       "dtype: object"
      ]
     },
     "execution_count": 16,
     "metadata": {},
     "output_type": "execute_result"
    }
   ],
   "source": [
    "df_agrisolus.dtypes"
   ]
  },
  {
   "cell_type": "markdown",
   "metadata": {},
   "source": [
    "* Tratamento de variáveis "
   ]
  },
  {
   "cell_type": "code",
   "execution_count": 17,
   "metadata": {},
   "outputs": [
    {
     "data": {
      "text/plain": [
       "Data              0\n",
       "Peso              0\n",
       "Umidade           0\n",
       "Temperatura       0\n",
       "idLote            0\n",
       "idLinhagem        0\n",
       "idBalanca         0\n",
       "DataAlojamento    0\n",
       "Sexo              0\n",
       "PesoChegada       0\n",
       "DataAbate         0\n",
       "Idade             0\n",
       "PesoEsperado      0\n",
       "DiffPeso          0\n",
       "dtype: int64"
      ]
     },
     "execution_count": 17,
     "metadata": {},
     "output_type": "execute_result"
    }
   ],
   "source": [
    "df_agrisolus.isnull().sum()"
   ]
  },
  {
   "cell_type": "markdown",
   "metadata": {},
   "source": [
    "* Transformando dados categóricos em colunas"
   ]
  },
  {
   "cell_type": "code",
   "execution_count": 5,
   "metadata": {},
   "outputs": [
    {
     "data": {
      "text/html": [
       "<div>\n",
       "<style scoped>\n",
       "    .dataframe tbody tr th:only-of-type {\n",
       "        vertical-align: middle;\n",
       "    }\n",
       "\n",
       "    .dataframe tbody tr th {\n",
       "        vertical-align: top;\n",
       "    }\n",
       "\n",
       "    .dataframe thead th {\n",
       "        text-align: right;\n",
       "    }\n",
       "</style>\n",
       "<table border=\"1\" class=\"dataframe\">\n",
       "  <thead>\n",
       "    <tr style=\"text-align: right;\">\n",
       "      <th></th>\n",
       "      <th>Peso</th>\n",
       "      <th>Umidade</th>\n",
       "      <th>Temperatura</th>\n",
       "      <th>idLote</th>\n",
       "      <th>idLinhagem</th>\n",
       "      <th>idBalanca</th>\n",
       "      <th>DataAlojamento</th>\n",
       "      <th>Sexo</th>\n",
       "      <th>PesoChegada</th>\n",
       "      <th>DataAbate</th>\n",
       "      <th>Idade</th>\n",
       "      <th>PesoEsperado</th>\n",
       "      <th>DiffPeso</th>\n",
       "      <th>AnoData</th>\n",
       "      <th>MesData</th>\n",
       "      <th>DiaData</th>\n",
       "      <th>Hora</th>\n",
       "      <th>Minuto</th>\n",
       "    </tr>\n",
       "  </thead>\n",
       "  <tbody>\n",
       "    <tr>\n",
       "      <th>0</th>\n",
       "      <td>20.5748</td>\n",
       "      <td>0.0</td>\n",
       "      <td>0.0</td>\n",
       "      <td>2</td>\n",
       "      <td>15</td>\n",
       "      <td>2843900</td>\n",
       "      <td>2019-04-06 06:30:00</td>\n",
       "      <td>Fêmeas Cobb MV GT Foods</td>\n",
       "      <td>38.0</td>\n",
       "      <td>2019-05-25 09:30:00</td>\n",
       "      <td>0</td>\n",
       "      <td>42.000000</td>\n",
       "      <td>-21.425200</td>\n",
       "      <td>2019</td>\n",
       "      <td>04</td>\n",
       "      <td>06</td>\n",
       "      <td>07</td>\n",
       "      <td>10</td>\n",
       "    </tr>\n",
       "    <tr>\n",
       "      <th>1</th>\n",
       "      <td>42.5538</td>\n",
       "      <td>68.2</td>\n",
       "      <td>32.1</td>\n",
       "      <td>2</td>\n",
       "      <td>15</td>\n",
       "      <td>2861839</td>\n",
       "      <td>2019-04-06 06:30:00</td>\n",
       "      <td>Fêmeas Cobb MV GT Foods</td>\n",
       "      <td>38.0</td>\n",
       "      <td>2019-05-25 09:30:00</td>\n",
       "      <td>0</td>\n",
       "      <td>42.000000</td>\n",
       "      <td>0.553800</td>\n",
       "      <td>2019</td>\n",
       "      <td>04</td>\n",
       "      <td>06</td>\n",
       "      <td>07</td>\n",
       "      <td>10</td>\n",
       "    </tr>\n",
       "    <tr>\n",
       "      <th>2</th>\n",
       "      <td>33.6798</td>\n",
       "      <td>67.9</td>\n",
       "      <td>32.1</td>\n",
       "      <td>2</td>\n",
       "      <td>15</td>\n",
       "      <td>2861839</td>\n",
       "      <td>2019-04-06 06:30:00</td>\n",
       "      <td>Fêmeas Cobb MV GT Foods</td>\n",
       "      <td>38.0</td>\n",
       "      <td>2019-05-25 09:30:00</td>\n",
       "      <td>0</td>\n",
       "      <td>42.000000</td>\n",
       "      <td>-8.320200</td>\n",
       "      <td>2019</td>\n",
       "      <td>04</td>\n",
       "      <td>06</td>\n",
       "      <td>07</td>\n",
       "      <td>10</td>\n",
       "    </tr>\n",
       "    <tr>\n",
       "      <th>3</th>\n",
       "      <td>25.7238</td>\n",
       "      <td>68.6</td>\n",
       "      <td>32.1</td>\n",
       "      <td>2</td>\n",
       "      <td>15</td>\n",
       "      <td>2861839</td>\n",
       "      <td>2019-04-06 06:30:00</td>\n",
       "      <td>Fêmeas Cobb MV GT Foods</td>\n",
       "      <td>38.0</td>\n",
       "      <td>2019-05-25 09:30:00</td>\n",
       "      <td>0</td>\n",
       "      <td>42.000000</td>\n",
       "      <td>-16.276200</td>\n",
       "      <td>2019</td>\n",
       "      <td>04</td>\n",
       "      <td>06</td>\n",
       "      <td>07</td>\n",
       "      <td>12</td>\n",
       "    </tr>\n",
       "    <tr>\n",
       "      <th>4</th>\n",
       "      <td>39.4938</td>\n",
       "      <td>68.8</td>\n",
       "      <td>32.0</td>\n",
       "      <td>2</td>\n",
       "      <td>15</td>\n",
       "      <td>2861839</td>\n",
       "      <td>2019-04-06 06:30:00</td>\n",
       "      <td>Fêmeas Cobb MV GT Foods</td>\n",
       "      <td>38.0</td>\n",
       "      <td>2019-05-25 09:30:00</td>\n",
       "      <td>0</td>\n",
       "      <td>42.000000</td>\n",
       "      <td>-2.506200</td>\n",
       "      <td>2019</td>\n",
       "      <td>04</td>\n",
       "      <td>06</td>\n",
       "      <td>07</td>\n",
       "      <td>13</td>\n",
       "    </tr>\n",
       "    <tr>\n",
       "      <th>...</th>\n",
       "      <td>...</td>\n",
       "      <td>...</td>\n",
       "      <td>...</td>\n",
       "      <td>...</td>\n",
       "      <td>...</td>\n",
       "      <td>...</td>\n",
       "      <td>...</td>\n",
       "      <td>...</td>\n",
       "      <td>...</td>\n",
       "      <td>...</td>\n",
       "      <td>...</td>\n",
       "      <td>...</td>\n",
       "      <td>...</td>\n",
       "      <td>...</td>\n",
       "      <td>...</td>\n",
       "      <td>...</td>\n",
       "      <td>...</td>\n",
       "      <td>...</td>\n",
       "    </tr>\n",
       "    <tr>\n",
       "      <th>2075583</th>\n",
       "      <td>5233.9554</td>\n",
       "      <td>0.0</td>\n",
       "      <td>0.0</td>\n",
       "      <td>2</td>\n",
       "      <td>15</td>\n",
       "      <td>2843900</td>\n",
       "      <td>2019-04-06 06:30:00</td>\n",
       "      <td>Fêmeas Cobb MV GT Foods</td>\n",
       "      <td>38.0</td>\n",
       "      <td>2019-05-25 09:30:00</td>\n",
       "      <td>1145</td>\n",
       "      <td>3235.825825</td>\n",
       "      <td>1998.129575</td>\n",
       "      <td>2019</td>\n",
       "      <td>05</td>\n",
       "      <td>23</td>\n",
       "      <td>23</td>\n",
       "      <td>56</td>\n",
       "    </tr>\n",
       "    <tr>\n",
       "      <th>2075584</th>\n",
       "      <td>5238.8098</td>\n",
       "      <td>0.0</td>\n",
       "      <td>0.0</td>\n",
       "      <td>2</td>\n",
       "      <td>15</td>\n",
       "      <td>2843900</td>\n",
       "      <td>2019-04-06 06:30:00</td>\n",
       "      <td>Fêmeas Cobb MV GT Foods</td>\n",
       "      <td>38.0</td>\n",
       "      <td>2019-05-25 09:30:00</td>\n",
       "      <td>1145</td>\n",
       "      <td>3235.825825</td>\n",
       "      <td>2002.983975</td>\n",
       "      <td>2019</td>\n",
       "      <td>05</td>\n",
       "      <td>23</td>\n",
       "      <td>23</td>\n",
       "      <td>56</td>\n",
       "    </tr>\n",
       "    <tr>\n",
       "      <th>2075585</th>\n",
       "      <td>5215.1446</td>\n",
       "      <td>0.0</td>\n",
       "      <td>0.0</td>\n",
       "      <td>2</td>\n",
       "      <td>15</td>\n",
       "      <td>2843900</td>\n",
       "      <td>2019-04-06 06:30:00</td>\n",
       "      <td>Fêmeas Cobb MV GT Foods</td>\n",
       "      <td>38.0</td>\n",
       "      <td>2019-05-25 09:30:00</td>\n",
       "      <td>1145</td>\n",
       "      <td>3235.825825</td>\n",
       "      <td>1979.318775</td>\n",
       "      <td>2019</td>\n",
       "      <td>05</td>\n",
       "      <td>23</td>\n",
       "      <td>23</td>\n",
       "      <td>56</td>\n",
       "    </tr>\n",
       "    <tr>\n",
       "      <th>2075586</th>\n",
       "      <td>5247.0016</td>\n",
       "      <td>0.0</td>\n",
       "      <td>0.0</td>\n",
       "      <td>2</td>\n",
       "      <td>15</td>\n",
       "      <td>2843900</td>\n",
       "      <td>2019-04-06 06:30:00</td>\n",
       "      <td>Fêmeas Cobb MV GT Foods</td>\n",
       "      <td>38.0</td>\n",
       "      <td>2019-05-25 09:30:00</td>\n",
       "      <td>1145</td>\n",
       "      <td>3235.825825</td>\n",
       "      <td>2011.175775</td>\n",
       "      <td>2019</td>\n",
       "      <td>05</td>\n",
       "      <td>23</td>\n",
       "      <td>23</td>\n",
       "      <td>56</td>\n",
       "    </tr>\n",
       "    <tr>\n",
       "      <th>2075587</th>\n",
       "      <td>5194.5134</td>\n",
       "      <td>0.0</td>\n",
       "      <td>0.0</td>\n",
       "      <td>2</td>\n",
       "      <td>15</td>\n",
       "      <td>2843900</td>\n",
       "      <td>2019-04-06 06:30:00</td>\n",
       "      <td>Fêmeas Cobb MV GT Foods</td>\n",
       "      <td>38.0</td>\n",
       "      <td>2019-05-25 09:30:00</td>\n",
       "      <td>1145</td>\n",
       "      <td>3235.825825</td>\n",
       "      <td>1958.687575</td>\n",
       "      <td>2019</td>\n",
       "      <td>05</td>\n",
       "      <td>23</td>\n",
       "      <td>23</td>\n",
       "      <td>57</td>\n",
       "    </tr>\n",
       "  </tbody>\n",
       "</table>\n",
       "<p>2075588 rows × 18 columns</p>\n",
       "</div>"
      ],
      "text/plain": [
       "              Peso  Umidade  Temperatura  idLote  idLinhagem  idBalanca  \\\n",
       "0          20.5748      0.0          0.0       2          15    2843900   \n",
       "1          42.5538     68.2         32.1       2          15    2861839   \n",
       "2          33.6798     67.9         32.1       2          15    2861839   \n",
       "3          25.7238     68.6         32.1       2          15    2861839   \n",
       "4          39.4938     68.8         32.0       2          15    2861839   \n",
       "...            ...      ...          ...     ...         ...        ...   \n",
       "2075583  5233.9554      0.0          0.0       2          15    2843900   \n",
       "2075584  5238.8098      0.0          0.0       2          15    2843900   \n",
       "2075585  5215.1446      0.0          0.0       2          15    2843900   \n",
       "2075586  5247.0016      0.0          0.0       2          15    2843900   \n",
       "2075587  5194.5134      0.0          0.0       2          15    2843900   \n",
       "\n",
       "              DataAlojamento                     Sexo  PesoChegada  \\\n",
       "0        2019-04-06 06:30:00  Fêmeas Cobb MV GT Foods         38.0   \n",
       "1        2019-04-06 06:30:00  Fêmeas Cobb MV GT Foods         38.0   \n",
       "2        2019-04-06 06:30:00  Fêmeas Cobb MV GT Foods         38.0   \n",
       "3        2019-04-06 06:30:00  Fêmeas Cobb MV GT Foods         38.0   \n",
       "4        2019-04-06 06:30:00  Fêmeas Cobb MV GT Foods         38.0   \n",
       "...                      ...                      ...          ...   \n",
       "2075583  2019-04-06 06:30:00  Fêmeas Cobb MV GT Foods         38.0   \n",
       "2075584  2019-04-06 06:30:00  Fêmeas Cobb MV GT Foods         38.0   \n",
       "2075585  2019-04-06 06:30:00  Fêmeas Cobb MV GT Foods         38.0   \n",
       "2075586  2019-04-06 06:30:00  Fêmeas Cobb MV GT Foods         38.0   \n",
       "2075587  2019-04-06 06:30:00  Fêmeas Cobb MV GT Foods         38.0   \n",
       "\n",
       "                   DataAbate  Idade  PesoEsperado     DiffPeso AnoData  \\\n",
       "0        2019-05-25 09:30:00      0     42.000000   -21.425200    2019   \n",
       "1        2019-05-25 09:30:00      0     42.000000     0.553800    2019   \n",
       "2        2019-05-25 09:30:00      0     42.000000    -8.320200    2019   \n",
       "3        2019-05-25 09:30:00      0     42.000000   -16.276200    2019   \n",
       "4        2019-05-25 09:30:00      0     42.000000    -2.506200    2019   \n",
       "...                      ...    ...           ...          ...     ...   \n",
       "2075583  2019-05-25 09:30:00   1145   3235.825825  1998.129575    2019   \n",
       "2075584  2019-05-25 09:30:00   1145   3235.825825  2002.983975    2019   \n",
       "2075585  2019-05-25 09:30:00   1145   3235.825825  1979.318775    2019   \n",
       "2075586  2019-05-25 09:30:00   1145   3235.825825  2011.175775    2019   \n",
       "2075587  2019-05-25 09:30:00   1145   3235.825825  1958.687575    2019   \n",
       "\n",
       "        MesData DiaData Hora Minuto  \n",
       "0            04      06   07     10  \n",
       "1            04      06   07     10  \n",
       "2            04      06   07     10  \n",
       "3            04      06   07     12  \n",
       "4            04      06   07     13  \n",
       "...         ...     ...  ...    ...  \n",
       "2075583      05      23   23     56  \n",
       "2075584      05      23   23     56  \n",
       "2075585      05      23   23     56  \n",
       "2075586      05      23   23     56  \n",
       "2075587      05      23   23     57  \n",
       "\n",
       "[2075588 rows x 18 columns]"
      ]
     },
     "execution_count": 5,
     "metadata": {},
     "output_type": "execute_result"
    }
   ],
   "source": [
    "# Transformando a coluna Data em três colunas, Ano Mes e Dia\n",
    "\n",
    "df_agrisolus['Data'] = pd.to_datetime(df_agrisolus['Data']) #transforma a cikyba oara datetime\n",
    "\n",
    "df_agrisolus['AnoData'] = df_agrisolus['Data'].dt.strftime('%Y')\n",
    "df_agrisolus['MesData'] = df_agrisolus['Data'].dt.strftime('%m')\n",
    "df_agrisolus['DiaData'] = df_agrisolus['Data'].dt.strftime('%d')\n",
    "\n",
    "df_agrisolus['Hora'] = df_agrisolus['Data'].dt.strftime('%H')\n",
    "df_agrisolus['Minuto'] = df_agrisolus['Data'].dt.strftime('%M')\n",
    "\n",
    "del df_agrisolus['Data'] #Remove a coluna Data\n",
    "df_agrisolus\n"
   ]
  },
  {
   "cell_type": "code",
   "execution_count": 6,
   "metadata": {},
   "outputs": [
    {
     "data": {
      "text/html": [
       "<div>\n",
       "<style scoped>\n",
       "    .dataframe tbody tr th:only-of-type {\n",
       "        vertical-align: middle;\n",
       "    }\n",
       "\n",
       "    .dataframe tbody tr th {\n",
       "        vertical-align: top;\n",
       "    }\n",
       "\n",
       "    .dataframe thead th {\n",
       "        text-align: right;\n",
       "    }\n",
       "</style>\n",
       "<table border=\"1\" class=\"dataframe\">\n",
       "  <thead>\n",
       "    <tr style=\"text-align: right;\">\n",
       "      <th></th>\n",
       "      <th>Peso</th>\n",
       "      <th>Umidade</th>\n",
       "      <th>Temperatura</th>\n",
       "      <th>idLote</th>\n",
       "      <th>idLinhagem</th>\n",
       "      <th>idBalanca</th>\n",
       "      <th>DataAlojamento</th>\n",
       "      <th>Sexo</th>\n",
       "      <th>PesoChegada</th>\n",
       "      <th>Idade</th>\n",
       "      <th>...</th>\n",
       "      <th>AnoData</th>\n",
       "      <th>MesData</th>\n",
       "      <th>DiaData</th>\n",
       "      <th>Hora</th>\n",
       "      <th>Minuto</th>\n",
       "      <th>Ano_abate</th>\n",
       "      <th>Mes_abate</th>\n",
       "      <th>Dia_abate</th>\n",
       "      <th>Hora_abate</th>\n",
       "      <th>Minuto_abate</th>\n",
       "    </tr>\n",
       "  </thead>\n",
       "  <tbody>\n",
       "    <tr>\n",
       "      <th>0</th>\n",
       "      <td>20.5748</td>\n",
       "      <td>0.0</td>\n",
       "      <td>0.0</td>\n",
       "      <td>2</td>\n",
       "      <td>15</td>\n",
       "      <td>2843900</td>\n",
       "      <td>2019-04-06 06:30:00</td>\n",
       "      <td>Fêmeas Cobb MV GT Foods</td>\n",
       "      <td>38.0</td>\n",
       "      <td>0</td>\n",
       "      <td>...</td>\n",
       "      <td>2019</td>\n",
       "      <td>04</td>\n",
       "      <td>06</td>\n",
       "      <td>07</td>\n",
       "      <td>10</td>\n",
       "      <td>2019</td>\n",
       "      <td>05</td>\n",
       "      <td>25</td>\n",
       "      <td>09</td>\n",
       "      <td>30</td>\n",
       "    </tr>\n",
       "    <tr>\n",
       "      <th>1</th>\n",
       "      <td>42.5538</td>\n",
       "      <td>68.2</td>\n",
       "      <td>32.1</td>\n",
       "      <td>2</td>\n",
       "      <td>15</td>\n",
       "      <td>2861839</td>\n",
       "      <td>2019-04-06 06:30:00</td>\n",
       "      <td>Fêmeas Cobb MV GT Foods</td>\n",
       "      <td>38.0</td>\n",
       "      <td>0</td>\n",
       "      <td>...</td>\n",
       "      <td>2019</td>\n",
       "      <td>04</td>\n",
       "      <td>06</td>\n",
       "      <td>07</td>\n",
       "      <td>10</td>\n",
       "      <td>2019</td>\n",
       "      <td>05</td>\n",
       "      <td>25</td>\n",
       "      <td>09</td>\n",
       "      <td>30</td>\n",
       "    </tr>\n",
       "    <tr>\n",
       "      <th>2</th>\n",
       "      <td>33.6798</td>\n",
       "      <td>67.9</td>\n",
       "      <td>32.1</td>\n",
       "      <td>2</td>\n",
       "      <td>15</td>\n",
       "      <td>2861839</td>\n",
       "      <td>2019-04-06 06:30:00</td>\n",
       "      <td>Fêmeas Cobb MV GT Foods</td>\n",
       "      <td>38.0</td>\n",
       "      <td>0</td>\n",
       "      <td>...</td>\n",
       "      <td>2019</td>\n",
       "      <td>04</td>\n",
       "      <td>06</td>\n",
       "      <td>07</td>\n",
       "      <td>10</td>\n",
       "      <td>2019</td>\n",
       "      <td>05</td>\n",
       "      <td>25</td>\n",
       "      <td>09</td>\n",
       "      <td>30</td>\n",
       "    </tr>\n",
       "    <tr>\n",
       "      <th>3</th>\n",
       "      <td>25.7238</td>\n",
       "      <td>68.6</td>\n",
       "      <td>32.1</td>\n",
       "      <td>2</td>\n",
       "      <td>15</td>\n",
       "      <td>2861839</td>\n",
       "      <td>2019-04-06 06:30:00</td>\n",
       "      <td>Fêmeas Cobb MV GT Foods</td>\n",
       "      <td>38.0</td>\n",
       "      <td>0</td>\n",
       "      <td>...</td>\n",
       "      <td>2019</td>\n",
       "      <td>04</td>\n",
       "      <td>06</td>\n",
       "      <td>07</td>\n",
       "      <td>12</td>\n",
       "      <td>2019</td>\n",
       "      <td>05</td>\n",
       "      <td>25</td>\n",
       "      <td>09</td>\n",
       "      <td>30</td>\n",
       "    </tr>\n",
       "    <tr>\n",
       "      <th>4</th>\n",
       "      <td>39.4938</td>\n",
       "      <td>68.8</td>\n",
       "      <td>32.0</td>\n",
       "      <td>2</td>\n",
       "      <td>15</td>\n",
       "      <td>2861839</td>\n",
       "      <td>2019-04-06 06:30:00</td>\n",
       "      <td>Fêmeas Cobb MV GT Foods</td>\n",
       "      <td>38.0</td>\n",
       "      <td>0</td>\n",
       "      <td>...</td>\n",
       "      <td>2019</td>\n",
       "      <td>04</td>\n",
       "      <td>06</td>\n",
       "      <td>07</td>\n",
       "      <td>13</td>\n",
       "      <td>2019</td>\n",
       "      <td>05</td>\n",
       "      <td>25</td>\n",
       "      <td>09</td>\n",
       "      <td>30</td>\n",
       "    </tr>\n",
       "    <tr>\n",
       "      <th>...</th>\n",
       "      <td>...</td>\n",
       "      <td>...</td>\n",
       "      <td>...</td>\n",
       "      <td>...</td>\n",
       "      <td>...</td>\n",
       "      <td>...</td>\n",
       "      <td>...</td>\n",
       "      <td>...</td>\n",
       "      <td>...</td>\n",
       "      <td>...</td>\n",
       "      <td>...</td>\n",
       "      <td>...</td>\n",
       "      <td>...</td>\n",
       "      <td>...</td>\n",
       "      <td>...</td>\n",
       "      <td>...</td>\n",
       "      <td>...</td>\n",
       "      <td>...</td>\n",
       "      <td>...</td>\n",
       "      <td>...</td>\n",
       "      <td>...</td>\n",
       "    </tr>\n",
       "    <tr>\n",
       "      <th>2075583</th>\n",
       "      <td>5233.9554</td>\n",
       "      <td>0.0</td>\n",
       "      <td>0.0</td>\n",
       "      <td>2</td>\n",
       "      <td>15</td>\n",
       "      <td>2843900</td>\n",
       "      <td>2019-04-06 06:30:00</td>\n",
       "      <td>Fêmeas Cobb MV GT Foods</td>\n",
       "      <td>38.0</td>\n",
       "      <td>1145</td>\n",
       "      <td>...</td>\n",
       "      <td>2019</td>\n",
       "      <td>05</td>\n",
       "      <td>23</td>\n",
       "      <td>23</td>\n",
       "      <td>56</td>\n",
       "      <td>2019</td>\n",
       "      <td>05</td>\n",
       "      <td>25</td>\n",
       "      <td>09</td>\n",
       "      <td>30</td>\n",
       "    </tr>\n",
       "    <tr>\n",
       "      <th>2075584</th>\n",
       "      <td>5238.8098</td>\n",
       "      <td>0.0</td>\n",
       "      <td>0.0</td>\n",
       "      <td>2</td>\n",
       "      <td>15</td>\n",
       "      <td>2843900</td>\n",
       "      <td>2019-04-06 06:30:00</td>\n",
       "      <td>Fêmeas Cobb MV GT Foods</td>\n",
       "      <td>38.0</td>\n",
       "      <td>1145</td>\n",
       "      <td>...</td>\n",
       "      <td>2019</td>\n",
       "      <td>05</td>\n",
       "      <td>23</td>\n",
       "      <td>23</td>\n",
       "      <td>56</td>\n",
       "      <td>2019</td>\n",
       "      <td>05</td>\n",
       "      <td>25</td>\n",
       "      <td>09</td>\n",
       "      <td>30</td>\n",
       "    </tr>\n",
       "    <tr>\n",
       "      <th>2075585</th>\n",
       "      <td>5215.1446</td>\n",
       "      <td>0.0</td>\n",
       "      <td>0.0</td>\n",
       "      <td>2</td>\n",
       "      <td>15</td>\n",
       "      <td>2843900</td>\n",
       "      <td>2019-04-06 06:30:00</td>\n",
       "      <td>Fêmeas Cobb MV GT Foods</td>\n",
       "      <td>38.0</td>\n",
       "      <td>1145</td>\n",
       "      <td>...</td>\n",
       "      <td>2019</td>\n",
       "      <td>05</td>\n",
       "      <td>23</td>\n",
       "      <td>23</td>\n",
       "      <td>56</td>\n",
       "      <td>2019</td>\n",
       "      <td>05</td>\n",
       "      <td>25</td>\n",
       "      <td>09</td>\n",
       "      <td>30</td>\n",
       "    </tr>\n",
       "    <tr>\n",
       "      <th>2075586</th>\n",
       "      <td>5247.0016</td>\n",
       "      <td>0.0</td>\n",
       "      <td>0.0</td>\n",
       "      <td>2</td>\n",
       "      <td>15</td>\n",
       "      <td>2843900</td>\n",
       "      <td>2019-04-06 06:30:00</td>\n",
       "      <td>Fêmeas Cobb MV GT Foods</td>\n",
       "      <td>38.0</td>\n",
       "      <td>1145</td>\n",
       "      <td>...</td>\n",
       "      <td>2019</td>\n",
       "      <td>05</td>\n",
       "      <td>23</td>\n",
       "      <td>23</td>\n",
       "      <td>56</td>\n",
       "      <td>2019</td>\n",
       "      <td>05</td>\n",
       "      <td>25</td>\n",
       "      <td>09</td>\n",
       "      <td>30</td>\n",
       "    </tr>\n",
       "    <tr>\n",
       "      <th>2075587</th>\n",
       "      <td>5194.5134</td>\n",
       "      <td>0.0</td>\n",
       "      <td>0.0</td>\n",
       "      <td>2</td>\n",
       "      <td>15</td>\n",
       "      <td>2843900</td>\n",
       "      <td>2019-04-06 06:30:00</td>\n",
       "      <td>Fêmeas Cobb MV GT Foods</td>\n",
       "      <td>38.0</td>\n",
       "      <td>1145</td>\n",
       "      <td>...</td>\n",
       "      <td>2019</td>\n",
       "      <td>05</td>\n",
       "      <td>23</td>\n",
       "      <td>23</td>\n",
       "      <td>57</td>\n",
       "      <td>2019</td>\n",
       "      <td>05</td>\n",
       "      <td>25</td>\n",
       "      <td>09</td>\n",
       "      <td>30</td>\n",
       "    </tr>\n",
       "  </tbody>\n",
       "</table>\n",
       "<p>2075588 rows × 22 columns</p>\n",
       "</div>"
      ],
      "text/plain": [
       "              Peso  Umidade  Temperatura  idLote  idLinhagem  idBalanca  \\\n",
       "0          20.5748      0.0          0.0       2          15    2843900   \n",
       "1          42.5538     68.2         32.1       2          15    2861839   \n",
       "2          33.6798     67.9         32.1       2          15    2861839   \n",
       "3          25.7238     68.6         32.1       2          15    2861839   \n",
       "4          39.4938     68.8         32.0       2          15    2861839   \n",
       "...            ...      ...          ...     ...         ...        ...   \n",
       "2075583  5233.9554      0.0          0.0       2          15    2843900   \n",
       "2075584  5238.8098      0.0          0.0       2          15    2843900   \n",
       "2075585  5215.1446      0.0          0.0       2          15    2843900   \n",
       "2075586  5247.0016      0.0          0.0       2          15    2843900   \n",
       "2075587  5194.5134      0.0          0.0       2          15    2843900   \n",
       "\n",
       "              DataAlojamento                     Sexo  PesoChegada  Idade  \\\n",
       "0        2019-04-06 06:30:00  Fêmeas Cobb MV GT Foods         38.0      0   \n",
       "1        2019-04-06 06:30:00  Fêmeas Cobb MV GT Foods         38.0      0   \n",
       "2        2019-04-06 06:30:00  Fêmeas Cobb MV GT Foods         38.0      0   \n",
       "3        2019-04-06 06:30:00  Fêmeas Cobb MV GT Foods         38.0      0   \n",
       "4        2019-04-06 06:30:00  Fêmeas Cobb MV GT Foods         38.0      0   \n",
       "...                      ...                      ...          ...    ...   \n",
       "2075583  2019-04-06 06:30:00  Fêmeas Cobb MV GT Foods         38.0   1145   \n",
       "2075584  2019-04-06 06:30:00  Fêmeas Cobb MV GT Foods         38.0   1145   \n",
       "2075585  2019-04-06 06:30:00  Fêmeas Cobb MV GT Foods         38.0   1145   \n",
       "2075586  2019-04-06 06:30:00  Fêmeas Cobb MV GT Foods         38.0   1145   \n",
       "2075587  2019-04-06 06:30:00  Fêmeas Cobb MV GT Foods         38.0   1145   \n",
       "\n",
       "         ...  AnoData  MesData DiaData Hora Minuto Ano_abate Mes_abate  \\\n",
       "0        ...     2019       04      06   07     10      2019        05   \n",
       "1        ...     2019       04      06   07     10      2019        05   \n",
       "2        ...     2019       04      06   07     10      2019        05   \n",
       "3        ...     2019       04      06   07     12      2019        05   \n",
       "4        ...     2019       04      06   07     13      2019        05   \n",
       "...      ...      ...      ...     ...  ...    ...       ...       ...   \n",
       "2075583  ...     2019       05      23   23     56      2019        05   \n",
       "2075584  ...     2019       05      23   23     56      2019        05   \n",
       "2075585  ...     2019       05      23   23     56      2019        05   \n",
       "2075586  ...     2019       05      23   23     56      2019        05   \n",
       "2075587  ...     2019       05      23   23     57      2019        05   \n",
       "\n",
       "        Dia_abate Hora_abate Minuto_abate  \n",
       "0              25         09           30  \n",
       "1              25         09           30  \n",
       "2              25         09           30  \n",
       "3              25         09           30  \n",
       "4              25         09           30  \n",
       "...           ...        ...          ...  \n",
       "2075583        25         09           30  \n",
       "2075584        25         09           30  \n",
       "2075585        25         09           30  \n",
       "2075586        25         09           30  \n",
       "2075587        25         09           30  \n",
       "\n",
       "[2075588 rows x 22 columns]"
      ]
     },
     "execution_count": 6,
     "metadata": {},
     "output_type": "execute_result"
    }
   ],
   "source": [
    "# Transformando a coluna Data Alojamento em três colunas, Ano Mes e Dia\n",
    "\n",
    "df_agrisolus['DataAbate'] = pd.to_datetime(df_agrisolus['DataAbate']) #transforma a cikyba oara datetime\n",
    "\n",
    "df_agrisolus['Ano_abate'] = df_agrisolus['DataAbate'].dt.strftime('%Y')\n",
    "df_agrisolus['Mes_abate'] = df_agrisolus['DataAbate'].dt.strftime('%m')\n",
    "df_agrisolus['Dia_abate'] = df_agrisolus['DataAbate'].dt.strftime('%d')\n",
    "\n",
    "df_agrisolus['Hora_abate'] = df_agrisolus['DataAbate'].dt.strftime('%H')\n",
    "df_agrisolus['Minuto_abate'] = df_agrisolus['DataAbate'].dt.strftime('%M')\n",
    "\n",
    "\n",
    "\n",
    "del df_agrisolus['DataAbate'] #Remove a coluna Data\n",
    "df_agrisolus"
   ]
  },
  {
   "cell_type": "code",
   "execution_count": 7,
   "metadata": {},
   "outputs": [
    {
     "data": {
      "text/html": [
       "<div>\n",
       "<style scoped>\n",
       "    .dataframe tbody tr th:only-of-type {\n",
       "        vertical-align: middle;\n",
       "    }\n",
       "\n",
       "    .dataframe tbody tr th {\n",
       "        vertical-align: top;\n",
       "    }\n",
       "\n",
       "    .dataframe thead th {\n",
       "        text-align: right;\n",
       "    }\n",
       "</style>\n",
       "<table border=\"1\" class=\"dataframe\">\n",
       "  <thead>\n",
       "    <tr style=\"text-align: right;\">\n",
       "      <th></th>\n",
       "      <th>Peso</th>\n",
       "      <th>Umidade</th>\n",
       "      <th>Temperatura</th>\n",
       "      <th>idLote</th>\n",
       "      <th>idLinhagem</th>\n",
       "      <th>idBalanca</th>\n",
       "      <th>Sexo</th>\n",
       "      <th>PesoChegada</th>\n",
       "      <th>Idade</th>\n",
       "      <th>PesoEsperado</th>\n",
       "      <th>...</th>\n",
       "      <th>Hora</th>\n",
       "      <th>Minuto</th>\n",
       "      <th>Ano_abate</th>\n",
       "      <th>Mes_abate</th>\n",
       "      <th>Dia_abate</th>\n",
       "      <th>Hora_abate</th>\n",
       "      <th>Minuto_abate</th>\n",
       "      <th>Ano_alojamento</th>\n",
       "      <th>Mes_alojamento</th>\n",
       "      <th>Dia_alojamento</th>\n",
       "    </tr>\n",
       "  </thead>\n",
       "  <tbody>\n",
       "    <tr>\n",
       "      <th>0</th>\n",
       "      <td>20.5748</td>\n",
       "      <td>0.0</td>\n",
       "      <td>0.0</td>\n",
       "      <td>2</td>\n",
       "      <td>15</td>\n",
       "      <td>2843900</td>\n",
       "      <td>Fêmeas Cobb MV GT Foods</td>\n",
       "      <td>38.0</td>\n",
       "      <td>0</td>\n",
       "      <td>42.000000</td>\n",
       "      <td>...</td>\n",
       "      <td>07</td>\n",
       "      <td>10</td>\n",
       "      <td>2019</td>\n",
       "      <td>05</td>\n",
       "      <td>25</td>\n",
       "      <td>09</td>\n",
       "      <td>30</td>\n",
       "      <td>2019</td>\n",
       "      <td>04</td>\n",
       "      <td>06</td>\n",
       "    </tr>\n",
       "    <tr>\n",
       "      <th>1</th>\n",
       "      <td>42.5538</td>\n",
       "      <td>68.2</td>\n",
       "      <td>32.1</td>\n",
       "      <td>2</td>\n",
       "      <td>15</td>\n",
       "      <td>2861839</td>\n",
       "      <td>Fêmeas Cobb MV GT Foods</td>\n",
       "      <td>38.0</td>\n",
       "      <td>0</td>\n",
       "      <td>42.000000</td>\n",
       "      <td>...</td>\n",
       "      <td>07</td>\n",
       "      <td>10</td>\n",
       "      <td>2019</td>\n",
       "      <td>05</td>\n",
       "      <td>25</td>\n",
       "      <td>09</td>\n",
       "      <td>30</td>\n",
       "      <td>2019</td>\n",
       "      <td>04</td>\n",
       "      <td>06</td>\n",
       "    </tr>\n",
       "    <tr>\n",
       "      <th>2</th>\n",
       "      <td>33.6798</td>\n",
       "      <td>67.9</td>\n",
       "      <td>32.1</td>\n",
       "      <td>2</td>\n",
       "      <td>15</td>\n",
       "      <td>2861839</td>\n",
       "      <td>Fêmeas Cobb MV GT Foods</td>\n",
       "      <td>38.0</td>\n",
       "      <td>0</td>\n",
       "      <td>42.000000</td>\n",
       "      <td>...</td>\n",
       "      <td>07</td>\n",
       "      <td>10</td>\n",
       "      <td>2019</td>\n",
       "      <td>05</td>\n",
       "      <td>25</td>\n",
       "      <td>09</td>\n",
       "      <td>30</td>\n",
       "      <td>2019</td>\n",
       "      <td>04</td>\n",
       "      <td>06</td>\n",
       "    </tr>\n",
       "    <tr>\n",
       "      <th>3</th>\n",
       "      <td>25.7238</td>\n",
       "      <td>68.6</td>\n",
       "      <td>32.1</td>\n",
       "      <td>2</td>\n",
       "      <td>15</td>\n",
       "      <td>2861839</td>\n",
       "      <td>Fêmeas Cobb MV GT Foods</td>\n",
       "      <td>38.0</td>\n",
       "      <td>0</td>\n",
       "      <td>42.000000</td>\n",
       "      <td>...</td>\n",
       "      <td>07</td>\n",
       "      <td>12</td>\n",
       "      <td>2019</td>\n",
       "      <td>05</td>\n",
       "      <td>25</td>\n",
       "      <td>09</td>\n",
       "      <td>30</td>\n",
       "      <td>2019</td>\n",
       "      <td>04</td>\n",
       "      <td>06</td>\n",
       "    </tr>\n",
       "    <tr>\n",
       "      <th>4</th>\n",
       "      <td>39.4938</td>\n",
       "      <td>68.8</td>\n",
       "      <td>32.0</td>\n",
       "      <td>2</td>\n",
       "      <td>15</td>\n",
       "      <td>2861839</td>\n",
       "      <td>Fêmeas Cobb MV GT Foods</td>\n",
       "      <td>38.0</td>\n",
       "      <td>0</td>\n",
       "      <td>42.000000</td>\n",
       "      <td>...</td>\n",
       "      <td>07</td>\n",
       "      <td>13</td>\n",
       "      <td>2019</td>\n",
       "      <td>05</td>\n",
       "      <td>25</td>\n",
       "      <td>09</td>\n",
       "      <td>30</td>\n",
       "      <td>2019</td>\n",
       "      <td>04</td>\n",
       "      <td>06</td>\n",
       "    </tr>\n",
       "    <tr>\n",
       "      <th>...</th>\n",
       "      <td>...</td>\n",
       "      <td>...</td>\n",
       "      <td>...</td>\n",
       "      <td>...</td>\n",
       "      <td>...</td>\n",
       "      <td>...</td>\n",
       "      <td>...</td>\n",
       "      <td>...</td>\n",
       "      <td>...</td>\n",
       "      <td>...</td>\n",
       "      <td>...</td>\n",
       "      <td>...</td>\n",
       "      <td>...</td>\n",
       "      <td>...</td>\n",
       "      <td>...</td>\n",
       "      <td>...</td>\n",
       "      <td>...</td>\n",
       "      <td>...</td>\n",
       "      <td>...</td>\n",
       "      <td>...</td>\n",
       "      <td>...</td>\n",
       "    </tr>\n",
       "    <tr>\n",
       "      <th>2075583</th>\n",
       "      <td>5233.9554</td>\n",
       "      <td>0.0</td>\n",
       "      <td>0.0</td>\n",
       "      <td>2</td>\n",
       "      <td>15</td>\n",
       "      <td>2843900</td>\n",
       "      <td>Fêmeas Cobb MV GT Foods</td>\n",
       "      <td>38.0</td>\n",
       "      <td>1145</td>\n",
       "      <td>3235.825825</td>\n",
       "      <td>...</td>\n",
       "      <td>23</td>\n",
       "      <td>56</td>\n",
       "      <td>2019</td>\n",
       "      <td>05</td>\n",
       "      <td>25</td>\n",
       "      <td>09</td>\n",
       "      <td>30</td>\n",
       "      <td>2019</td>\n",
       "      <td>04</td>\n",
       "      <td>06</td>\n",
       "    </tr>\n",
       "    <tr>\n",
       "      <th>2075584</th>\n",
       "      <td>5238.8098</td>\n",
       "      <td>0.0</td>\n",
       "      <td>0.0</td>\n",
       "      <td>2</td>\n",
       "      <td>15</td>\n",
       "      <td>2843900</td>\n",
       "      <td>Fêmeas Cobb MV GT Foods</td>\n",
       "      <td>38.0</td>\n",
       "      <td>1145</td>\n",
       "      <td>3235.825825</td>\n",
       "      <td>...</td>\n",
       "      <td>23</td>\n",
       "      <td>56</td>\n",
       "      <td>2019</td>\n",
       "      <td>05</td>\n",
       "      <td>25</td>\n",
       "      <td>09</td>\n",
       "      <td>30</td>\n",
       "      <td>2019</td>\n",
       "      <td>04</td>\n",
       "      <td>06</td>\n",
       "    </tr>\n",
       "    <tr>\n",
       "      <th>2075585</th>\n",
       "      <td>5215.1446</td>\n",
       "      <td>0.0</td>\n",
       "      <td>0.0</td>\n",
       "      <td>2</td>\n",
       "      <td>15</td>\n",
       "      <td>2843900</td>\n",
       "      <td>Fêmeas Cobb MV GT Foods</td>\n",
       "      <td>38.0</td>\n",
       "      <td>1145</td>\n",
       "      <td>3235.825825</td>\n",
       "      <td>...</td>\n",
       "      <td>23</td>\n",
       "      <td>56</td>\n",
       "      <td>2019</td>\n",
       "      <td>05</td>\n",
       "      <td>25</td>\n",
       "      <td>09</td>\n",
       "      <td>30</td>\n",
       "      <td>2019</td>\n",
       "      <td>04</td>\n",
       "      <td>06</td>\n",
       "    </tr>\n",
       "    <tr>\n",
       "      <th>2075586</th>\n",
       "      <td>5247.0016</td>\n",
       "      <td>0.0</td>\n",
       "      <td>0.0</td>\n",
       "      <td>2</td>\n",
       "      <td>15</td>\n",
       "      <td>2843900</td>\n",
       "      <td>Fêmeas Cobb MV GT Foods</td>\n",
       "      <td>38.0</td>\n",
       "      <td>1145</td>\n",
       "      <td>3235.825825</td>\n",
       "      <td>...</td>\n",
       "      <td>23</td>\n",
       "      <td>56</td>\n",
       "      <td>2019</td>\n",
       "      <td>05</td>\n",
       "      <td>25</td>\n",
       "      <td>09</td>\n",
       "      <td>30</td>\n",
       "      <td>2019</td>\n",
       "      <td>04</td>\n",
       "      <td>06</td>\n",
       "    </tr>\n",
       "    <tr>\n",
       "      <th>2075587</th>\n",
       "      <td>5194.5134</td>\n",
       "      <td>0.0</td>\n",
       "      <td>0.0</td>\n",
       "      <td>2</td>\n",
       "      <td>15</td>\n",
       "      <td>2843900</td>\n",
       "      <td>Fêmeas Cobb MV GT Foods</td>\n",
       "      <td>38.0</td>\n",
       "      <td>1145</td>\n",
       "      <td>3235.825825</td>\n",
       "      <td>...</td>\n",
       "      <td>23</td>\n",
       "      <td>57</td>\n",
       "      <td>2019</td>\n",
       "      <td>05</td>\n",
       "      <td>25</td>\n",
       "      <td>09</td>\n",
       "      <td>30</td>\n",
       "      <td>2019</td>\n",
       "      <td>04</td>\n",
       "      <td>06</td>\n",
       "    </tr>\n",
       "  </tbody>\n",
       "</table>\n",
       "<p>2075588 rows × 24 columns</p>\n",
       "</div>"
      ],
      "text/plain": [
       "              Peso  Umidade  Temperatura  idLote  idLinhagem  idBalanca  \\\n",
       "0          20.5748      0.0          0.0       2          15    2843900   \n",
       "1          42.5538     68.2         32.1       2          15    2861839   \n",
       "2          33.6798     67.9         32.1       2          15    2861839   \n",
       "3          25.7238     68.6         32.1       2          15    2861839   \n",
       "4          39.4938     68.8         32.0       2          15    2861839   \n",
       "...            ...      ...          ...     ...         ...        ...   \n",
       "2075583  5233.9554      0.0          0.0       2          15    2843900   \n",
       "2075584  5238.8098      0.0          0.0       2          15    2843900   \n",
       "2075585  5215.1446      0.0          0.0       2          15    2843900   \n",
       "2075586  5247.0016      0.0          0.0       2          15    2843900   \n",
       "2075587  5194.5134      0.0          0.0       2          15    2843900   \n",
       "\n",
       "                            Sexo  PesoChegada  Idade  PesoEsperado  ...  Hora  \\\n",
       "0        Fêmeas Cobb MV GT Foods         38.0      0     42.000000  ...    07   \n",
       "1        Fêmeas Cobb MV GT Foods         38.0      0     42.000000  ...    07   \n",
       "2        Fêmeas Cobb MV GT Foods         38.0      0     42.000000  ...    07   \n",
       "3        Fêmeas Cobb MV GT Foods         38.0      0     42.000000  ...    07   \n",
       "4        Fêmeas Cobb MV GT Foods         38.0      0     42.000000  ...    07   \n",
       "...                          ...          ...    ...           ...  ...   ...   \n",
       "2075583  Fêmeas Cobb MV GT Foods         38.0   1145   3235.825825  ...    23   \n",
       "2075584  Fêmeas Cobb MV GT Foods         38.0   1145   3235.825825  ...    23   \n",
       "2075585  Fêmeas Cobb MV GT Foods         38.0   1145   3235.825825  ...    23   \n",
       "2075586  Fêmeas Cobb MV GT Foods         38.0   1145   3235.825825  ...    23   \n",
       "2075587  Fêmeas Cobb MV GT Foods         38.0   1145   3235.825825  ...    23   \n",
       "\n",
       "        Minuto Ano_abate Mes_abate Dia_abate Hora_abate Minuto_abate  \\\n",
       "0           10      2019        05        25         09           30   \n",
       "1           10      2019        05        25         09           30   \n",
       "2           10      2019        05        25         09           30   \n",
       "3           12      2019        05        25         09           30   \n",
       "4           13      2019        05        25         09           30   \n",
       "...        ...       ...       ...       ...        ...          ...   \n",
       "2075583     56      2019        05        25         09           30   \n",
       "2075584     56      2019        05        25         09           30   \n",
       "2075585     56      2019        05        25         09           30   \n",
       "2075586     56      2019        05        25         09           30   \n",
       "2075587     57      2019        05        25         09           30   \n",
       "\n",
       "        Ano_alojamento Mes_alojamento Dia_alojamento  \n",
       "0                 2019             04             06  \n",
       "1                 2019             04             06  \n",
       "2                 2019             04             06  \n",
       "3                 2019             04             06  \n",
       "4                 2019             04             06  \n",
       "...                ...            ...            ...  \n",
       "2075583           2019             04             06  \n",
       "2075584           2019             04             06  \n",
       "2075585           2019             04             06  \n",
       "2075586           2019             04             06  \n",
       "2075587           2019             04             06  \n",
       "\n",
       "[2075588 rows x 24 columns]"
      ]
     },
     "execution_count": 7,
     "metadata": {},
     "output_type": "execute_result"
    }
   ],
   "source": [
    "# Transformando a coluna Data Alojamento em três colunas, Ano Mes e Dia\n",
    "df_agrisolus['DataAlojamento'] = pd.to_datetime(df_agrisolus['DataAlojamento']) #transforma a cikyba oara datetime\n",
    "\n",
    "\n",
    "df_agrisolus['Ano_alojamento'] = df_agrisolus['DataAlojamento'].dt.strftime('%Y')\n",
    "df_agrisolus['Mes_alojamento'] = df_agrisolus['DataAlojamento'].dt.strftime('%m')\n",
    "df_agrisolus['Dia_alojamento'] = df_agrisolus['DataAlojamento'].dt.strftime('%d')\n",
    "\n",
    "\n",
    "\n",
    "del df_agrisolus['DataAlojamento'] #Remove a coluna Data\n",
    "df_agrisolus"
   ]
  },
  {
   "cell_type": "markdown",
   "metadata": {},
   "source": [
    "* Codificando variaveis categoricas"
   ]
  },
  {
   "cell_type": "code",
   "execution_count": 8,
   "metadata": {},
   "outputs": [
    {
     "data": {
      "text/html": [
       "<div>\n",
       "<style scoped>\n",
       "    .dataframe tbody tr th:only-of-type {\n",
       "        vertical-align: middle;\n",
       "    }\n",
       "\n",
       "    .dataframe tbody tr th {\n",
       "        vertical-align: top;\n",
       "    }\n",
       "\n",
       "    .dataframe thead th {\n",
       "        text-align: right;\n",
       "    }\n",
       "</style>\n",
       "<table border=\"1\" class=\"dataframe\">\n",
       "  <thead>\n",
       "    <tr style=\"text-align: right;\">\n",
       "      <th></th>\n",
       "      <th>Peso</th>\n",
       "      <th>Umidade</th>\n",
       "      <th>Temperatura</th>\n",
       "      <th>idLote</th>\n",
       "      <th>idLinhagem</th>\n",
       "      <th>idBalanca</th>\n",
       "      <th>Sexo</th>\n",
       "      <th>PesoChegada</th>\n",
       "      <th>Idade</th>\n",
       "      <th>PesoEsperado</th>\n",
       "      <th>...</th>\n",
       "      <th>Hora</th>\n",
       "      <th>Minuto</th>\n",
       "      <th>Ano_abate</th>\n",
       "      <th>Mes_abate</th>\n",
       "      <th>Dia_abate</th>\n",
       "      <th>Hora_abate</th>\n",
       "      <th>Minuto_abate</th>\n",
       "      <th>Ano_alojamento</th>\n",
       "      <th>Mes_alojamento</th>\n",
       "      <th>Dia_alojamento</th>\n",
       "    </tr>\n",
       "    <tr>\n",
       "      <th>cat_sexo</th>\n",
       "      <th></th>\n",
       "      <th></th>\n",
       "      <th></th>\n",
       "      <th></th>\n",
       "      <th></th>\n",
       "      <th></th>\n",
       "      <th></th>\n",
       "      <th></th>\n",
       "      <th></th>\n",
       "      <th></th>\n",
       "      <th></th>\n",
       "      <th></th>\n",
       "      <th></th>\n",
       "      <th></th>\n",
       "      <th></th>\n",
       "      <th></th>\n",
       "      <th></th>\n",
       "      <th></th>\n",
       "      <th></th>\n",
       "      <th></th>\n",
       "      <th></th>\n",
       "    </tr>\n",
       "  </thead>\n",
       "  <tbody>\n",
       "    <tr>\n",
       "      <th>0</th>\n",
       "      <td>1091059</td>\n",
       "      <td>1091059</td>\n",
       "      <td>1091059</td>\n",
       "      <td>1091059</td>\n",
       "      <td>1091059</td>\n",
       "      <td>1091059</td>\n",
       "      <td>1091059</td>\n",
       "      <td>1091059</td>\n",
       "      <td>1091059</td>\n",
       "      <td>1091059</td>\n",
       "      <td>...</td>\n",
       "      <td>1091059</td>\n",
       "      <td>1091059</td>\n",
       "      <td>1091059</td>\n",
       "      <td>1091059</td>\n",
       "      <td>1091059</td>\n",
       "      <td>1091059</td>\n",
       "      <td>1091059</td>\n",
       "      <td>1091059</td>\n",
       "      <td>1091059</td>\n",
       "      <td>1091059</td>\n",
       "    </tr>\n",
       "    <tr>\n",
       "      <th>1</th>\n",
       "      <td>984529</td>\n",
       "      <td>984529</td>\n",
       "      <td>984529</td>\n",
       "      <td>984529</td>\n",
       "      <td>984529</td>\n",
       "      <td>984529</td>\n",
       "      <td>984529</td>\n",
       "      <td>984529</td>\n",
       "      <td>984529</td>\n",
       "      <td>984529</td>\n",
       "      <td>...</td>\n",
       "      <td>984529</td>\n",
       "      <td>984529</td>\n",
       "      <td>984529</td>\n",
       "      <td>984529</td>\n",
       "      <td>984529</td>\n",
       "      <td>984529</td>\n",
       "      <td>984529</td>\n",
       "      <td>984529</td>\n",
       "      <td>984529</td>\n",
       "      <td>984529</td>\n",
       "    </tr>\n",
       "  </tbody>\n",
       "</table>\n",
       "<p>2 rows × 24 columns</p>\n",
       "</div>"
      ],
      "text/plain": [
       "             Peso  Umidade  Temperatura   idLote  idLinhagem  idBalanca  \\\n",
       "cat_sexo                                                                  \n",
       "0         1091059  1091059      1091059  1091059     1091059    1091059   \n",
       "1          984529   984529       984529   984529      984529     984529   \n",
       "\n",
       "             Sexo  PesoChegada    Idade  PesoEsperado  ...     Hora   Minuto  \\\n",
       "cat_sexo                                               ...                     \n",
       "0         1091059      1091059  1091059       1091059  ...  1091059  1091059   \n",
       "1          984529       984529   984529        984529  ...   984529   984529   \n",
       "\n",
       "          Ano_abate  Mes_abate  Dia_abate  Hora_abate  Minuto_abate  \\\n",
       "cat_sexo                                                              \n",
       "0           1091059    1091059    1091059     1091059       1091059   \n",
       "1            984529     984529     984529      984529        984529   \n",
       "\n",
       "          Ano_alojamento  Mes_alojamento  Dia_alojamento  \n",
       "cat_sexo                                                  \n",
       "0                1091059         1091059         1091059  \n",
       "1                 984529          984529          984529  \n",
       "\n",
       "[2 rows x 24 columns]"
      ]
     },
     "execution_count": 8,
     "metadata": {},
     "output_type": "execute_result"
    }
   ],
   "source": [
    "from sklearn.preprocessing import LabelEncoder\n",
    "\n",
    "categ_encod = LabelEncoder()\n",
    "df_agrisolus[\"cat_sexo\"] = categ_encod.fit_transform(df_agrisolus[\"Sexo\"])\n",
    "#df_agrisolus[[\"Sexo\", \"cat_sexo\"]].tail(80)\n",
    "df_agrisolus.groupby('cat_sexo').count()"
   ]
  },
  {
   "cell_type": "markdown",
   "metadata": {},
   "source": [
    "* Analisando os valores de Peso e desvios de peso por categoria"
   ]
  },
  {
   "cell_type": "code",
   "execution_count": 22,
   "metadata": {},
   "outputs": [
    {
     "data": {
      "text/plain": [
       "<matplotlib.axes._subplots.AxesSubplot at 0x7fe4e46bde10>"
      ]
     },
     "execution_count": 22,
     "metadata": {},
     "output_type": "execute_result"
    },
    {
     "data": {
      "image/png": "[encoded data removed]",
      "text/plain": [
       "<Figure size 432x288 with 1 Axes>"
      ]
     },
     "metadata": {},
     "output_type": "display_data"
    }
   ],
   "source": [
    "sns.boxplot(x= 'cat_sexo', y='Peso', hue ='cat_sexo', data = df_agrisolus)"
   ]
  },
  {
   "cell_type": "markdown",
   "metadata": {},
   "source": [
    "* Analise do Peso e DiffPeso por Grupo de Frangos"
   ]
  },
  {
   "cell_type": "code",
   "execution_count": 23,
   "metadata": {},
   "outputs": [],
   "source": [
    "def calculagrupo(vetor):\n",
    "    Peso = vetor[1]\n",
    "    DiffPeso = vetor[0]\n",
    "    p = abs(DiffPeso/Peso)\n",
    "    if p < 0.3 :\n",
    "        return 'ok'\n",
    "    if p < 0.7 :\n",
    "        return 'duvidoso'\n",
    "    if p < 1:\n",
    "        return 'ta piorando'\n",
    "    else:\n",
    "        return 'Pior caso'\n",
    "    \n",
    "df_agrisolus['grupo'] = df_agrisolus[['DiffPeso', 'Peso']].apply(calculagrupo,axis =1)\n",
    "\n"
   ]
  },
  {
   "cell_type": "code",
   "execution_count": 24,
   "metadata": {},
   "outputs": [
    {
     "data": {
      "text/plain": [
       "array(['Pior caso', 'ok', 'duvidoso', 'ta piorando'], dtype=object)"
      ]
     },
     "execution_count": 24,
     "metadata": {},
     "output_type": "execute_result"
    }
   ],
   "source": [
    "df_agrisolus['grupo'].unique()"
   ]
  },
  {
   "cell_type": "code",
   "execution_count": 25,
   "metadata": {},
   "outputs": [
    {
     "data": {
      "text/plain": [
       "<matplotlib.axes._subplots.AxesSubplot at 0x7fe55db1a0d0>"
      ]
     },
     "execution_count": 25,
     "metadata": {},
     "output_type": "execute_result"
    },
    {
     "data": {
      "image/png": "[encoded data removed]",
      "text/plain": [
       "<Figure size 432x288 with 1 Axes>"
      ]
     },
     "metadata": {},
     "output_type": "display_data"
    }
   ],
   "source": [
    "sns.boxplot(x= 'Idade', y='Peso', hue ='grupo', data = df_agrisolus)"
   ]
  },
  {
   "cell_type": "code",
   "execution_count": 26,
   "metadata": {},
   "outputs": [
    {
     "data": {
      "text/plain": [
       "<matplotlib.axes._subplots.AxesSubplot at 0x7fe4bbaab0d0>"
      ]
     },
     "execution_count": 26,
     "metadata": {},
     "output_type": "execute_result"
    },
    {
     "data": {
      "image/png": "[encoded data removed]",
      "text/plain": [
       "<Figure size 432x288 with 1 Axes>"
      ]
     },
     "metadata": {},
     "output_type": "display_data"
    }
   ],
   "source": [
    "df_agrisolus.groupby('cat_sexo')['Peso'].value_counts().plot(legend = True)"
   ]
  },
  {
   "cell_type": "code",
   "execution_count": 27,
   "metadata": {},
   "outputs": [
    {
     "data": {
      "text/plain": [
       "<matplotlib.axes._subplots.AxesSubplot at 0x7fe4b8027090>"
      ]
     },
     "execution_count": 27,
     "metadata": {},
     "output_type": "execute_result"
    },
    {
     "data": {
      "image/png": "[encoded data removed]",
      "text/plain": [
       "<Figure size 432x288 with 1 Axes>"
      ]
     },
     "metadata": {},
     "output_type": "display_data"
    }
   ],
   "source": [
    "df_agrisolus.groupby('cat_sexo')['Temperatura'].value_counts().plot()"
   ]
  },
  {
   "cell_type": "code",
   "execution_count": 28,
   "metadata": {},
   "outputs": [
    {
     "data": {
      "text/plain": [
       "<matplotlib.axes._subplots.AxesSubplot at 0x7fe4b72b3350>"
      ]
     },
     "execution_count": 28,
     "metadata": {},
     "output_type": "execute_result"
    },
    {
     "data": {
      "image/png": "[encoded data removed]",
      "text/plain": [
       "<Figure size 432x288 with 1 Axes>"
      ]
     },
     "metadata": {},
     "output_type": "display_data"
    }
   ],
   "source": [
    "df_agrisolus.groupby('cat_sexo')['Umidade'].value_counts().plot()"
   ]
  },
  {
   "cell_type": "code",
   "execution_count": 29,
   "metadata": {},
   "outputs": [
    {
     "name": "stdout",
     "output_type": "stream",
     "text": [
      "Como o plot esta bastante confuso, vamos analisar utilizando a biblioteca seaborn\n"
     ]
    },
    {
     "data": {
      "image/png": "[encoded data removed]",
      "text/plain": [
       "<Figure size 432x288 with 1 Axes>"
      ]
     },
     "metadata": {},
     "output_type": "display_data"
    }
   ],
   "source": [
    "df_agrisolus.groupby('Sexo')['Temperatura'].plot(legend = True)\n",
    "print(\"Como o plot esta bastante confuso, vamos analisar utilizando a biblioteca seaborn\")"
   ]
  },
  {
   "cell_type": "code",
   "execution_count": 30,
   "metadata": {},
   "outputs": [
    {
     "data": {
      "text/plain": [
       "<matplotlib.axes._subplots.AxesSubplot at 0x7fe4b72e7490>"
      ]
     },
     "execution_count": 30,
     "metadata": {},
     "output_type": "execute_result"
    },
    {
     "data": {
      "image/png": "[encoded data removed]",
      "text/plain": [
       "<Figure size 432x288 with 1 Axes>"
      ]
     },
     "metadata": {},
     "output_type": "display_data"
    }
   ],
   "source": [
    "sns.boxplot(x= 'Sexo', y='Temperatura', hue ='Sexo', data = df_agrisolus)"
   ]
  },
  {
   "cell_type": "markdown",
   "metadata": {},
   "source": [
    "* Umidade pelo Sexo"
   ]
  },
  {
   "cell_type": "code",
   "execution_count": 31,
   "metadata": {},
   "outputs": [
    {
     "data": {
      "text/plain": [
       "Sexo\n",
       "Fêmeas Cobb MV GT Foods    AxesSubplot(0.125,0.125;0.775x0.755)\n",
       "Mistos Cobb MV GT Foods    AxesSubplot(0.125,0.125;0.775x0.755)\n",
       "Name: Umidade, dtype: object"
      ]
     },
     "execution_count": 31,
     "metadata": {},
     "output_type": "execute_result"
    },
    {
     "data": {
      "image/png": "[encoded data removed]",
      "text/plain": [
       "<Figure size 432x288 with 1 Axes>"
      ]
     },
     "metadata": {},
     "output_type": "display_data"
    }
   ],
   "source": [
    "df_agrisolus.groupby('Sexo')['Umidade'].plot(legend = True)"
   ]
  },
  {
   "cell_type": "code",
   "execution_count": 32,
   "metadata": {},
   "outputs": [
    {
     "data": {
      "text/plain": [
       "<matplotlib.axes._subplots.AxesSubplot at 0x7fe4b876b390>"
      ]
     },
     "execution_count": 32,
     "metadata": {},
     "output_type": "execute_result"
    },
    {
     "data": {
      "image/png": "[encoded data removed]",
      "text/plain": [
       "<Figure size 432x288 with 1 Axes>"
      ]
     },
     "metadata": {},
     "output_type": "display_data"
    }
   ],
   "source": [
    "sns.boxplot(x= 'Sexo', y='Umidade', hue ='Sexo', data = df_agrisolus)"
   ]
  },
  {
   "cell_type": "markdown",
   "metadata": {},
   "source": [
    "* Balanca por Umidade"
   ]
  },
  {
   "cell_type": "code",
   "execution_count": 33,
   "metadata": {},
   "outputs": [
    {
     "data": {
      "text/plain": [
       "<matplotlib.axes._subplots.AxesSubplot at 0x7fe4cca8e550>"
      ]
     },
     "execution_count": 33,
     "metadata": {},
     "output_type": "execute_result"
    },
    {
     "data": {
      "image/png": "[encoded data removed]",
      "text/plain": [
       "<Figure size 432x288 with 1 Axes>"
      ]
     },
     "metadata": {},
     "output_type": "display_data"
    }
   ],
   "source": [
    "sns.boxplot(x= 'idBalanca', y='Umidade', hue ='idBalanca', data = df_agrisolus)"
   ]
  },
  {
   "cell_type": "code",
   "execution_count": 34,
   "metadata": {},
   "outputs": [
    {
     "data": {
      "text/plain": [
       "<matplotlib.axes._subplots.AxesSubplot at 0x7fe4cc99c490>"
      ]
     },
     "execution_count": 34,
     "metadata": {},
     "output_type": "execute_result"
    },
    {
     "data": {
      "image/png": "[encoded data removed]",
      "text/plain": [
       "<Figure size 432x288 with 1 Axes>"
      ]
     },
     "metadata": {},
     "output_type": "display_data"
    }
   ],
   "source": [
    "sns.lineplot(x= 'Idade', y='Temperatura', hue ='idBalanca', data = df_agrisolus)"
   ]
  },
  {
   "cell_type": "code",
   "execution_count": 35,
   "metadata": {},
   "outputs": [
    {
     "data": {
      "image/png": "[encoded data removed]",
      "text/plain": [
       "<Figure size 432x288 with 1 Axes>"
      ]
     },
     "metadata": {},
     "output_type": "display_data"
    }
   ],
   "source": [
    "sns.lineplot(x= 'Idade', y='Peso', hue ='grupo',ci='sd', data = df_agrisolus)\n",
    "\n",
    "sns.lineplot(x= 'Idade', y='PesoEsperado', data = df_agrisolus)\n",
    "\n",
    "plt.show()\n"
   ]
  },
  {
   "cell_type": "code",
   "execution_count": 36,
   "metadata": {},
   "outputs": [
    {
     "data": {
      "image/png": "[encoded data removed]",
      "text/plain": [
       "<Figure size 432x288 with 1 Axes>"
      ]
     },
     "metadata": {},
     "output_type": "display_data"
    }
   ],
   "source": [
    "subset = df_agrisolus.loc[df_agrisolus.grupo == 'ok']\n",
    "\n",
    "sns.lineplot(x= 'Idade', y='Peso', hue ='grupo',ci='sd', data = subset)\n",
    "\n",
    "sns.lineplot(x= 'Idade', y='PesoEsperado', data = subset)\n",
    "\n",
    "plt.show()\n",
    "\n",
    "#subsize = subset.set_index()"
   ]
  },
  {
   "cell_type": "markdown",
   "metadata": {},
   "source": [
    "* Sexo por Peso por Esperado"
   ]
  },
  {
   "cell_type": "code",
   "execution_count": 37,
   "metadata": {},
   "outputs": [
    {
     "data": {
      "text/plain": [
       "Sexo\n",
       "Fêmeas Cobb MV GT Foods    AxesSubplot(0.125,0.125;0.775x0.755)\n",
       "Mistos Cobb MV GT Foods    AxesSubplot(0.125,0.125;0.775x0.755)\n",
       "Name: PesoEsperado, dtype: object"
      ]
     },
     "execution_count": 37,
     "metadata": {},
     "output_type": "execute_result"
    },
    {
     "data": {
      "image/png": "[encoded data removed]",
      "text/plain": [
       "<Figure size 432x288 with 1 Axes>"
      ]
     },
     "metadata": {},
     "output_type": "display_data"
    }
   ],
   "source": [
    "df_agrisolus.groupby('Sexo')['PesoEsperado'].plot(legend = True)"
   ]
  },
  {
   "cell_type": "code",
   "execution_count": 38,
   "metadata": {},
   "outputs": [
    {
     "data": {
      "text/plain": [
       "Sexo\n",
       "Fêmeas Cobb MV GT Foods    AxesSubplot(0.125,0.125;0.775x0.755)\n",
       "Mistos Cobb MV GT Foods    AxesSubplot(0.125,0.125;0.775x0.755)\n",
       "Name: Peso, dtype: object"
      ]
     },
     "execution_count": 38,
     "metadata": {},
     "output_type": "execute_result"
    },
    {
     "data": {
      "image/png": "[encoded data removed]",
      "text/plain": [
       "<Figure size 432x288 with 1 Axes>"
      ]
     },
     "metadata": {},
     "output_type": "display_data"
    }
   ],
   "source": [
    "\n",
    "df_agrisolus.groupby('Sexo')['Peso'].plot(legend = True)"
   ]
  },
  {
   "cell_type": "code",
   "execution_count": 39,
   "metadata": {},
   "outputs": [
    {
     "data": {
      "text/plain": [
       "Sexo\n",
       "Fêmeas Cobb MV GT Foods    AxesSubplot(0.125,0.125;0.775x0.755)\n",
       "Mistos Cobb MV GT Foods    AxesSubplot(0.125,0.125;0.775x0.755)\n",
       "Name: Idade, dtype: object"
      ]
     },
     "execution_count": 39,
     "metadata": {},
     "output_type": "execute_result"
    },
    {
     "data": {
      "image/png": "[encoded data removed]",
      "text/plain": [
       "<Figure size 432x288 with 1 Axes>"
      ]
     },
     "metadata": {},
     "output_type": "display_data"
    }
   ],
   "source": [
    "df_agrisolus.groupby('Sexo')['Idade'].plot(legend = True)"
   ]
  },
  {
   "cell_type": "code",
   "execution_count": 42,
   "metadata": {},
   "outputs": [
    {
     "data": {
      "text/plain": [
       "array([[<matplotlib.axes._subplots.AxesSubplot object at 0x7fe4b80b2f10>,\n",
       "        <matplotlib.axes._subplots.AxesSubplot object at 0x7fe49758ff10>,\n",
       "        <matplotlib.axes._subplots.AxesSubplot object at 0x7fe49754cc50>],\n",
       "       [<matplotlib.axes._subplots.AxesSubplot object at 0x7fe497502f50>,\n",
       "        <matplotlib.axes._subplots.AxesSubplot object at 0x7fe4974b87d0>,\n",
       "        <matplotlib.axes._subplots.AxesSubplot object at 0x7fe49746aad0>],\n",
       "       [<matplotlib.axes._subplots.AxesSubplot object at 0x7fe49741ddd0>,\n",
       "        <matplotlib.axes._subplots.AxesSubplot object at 0x7fe4973dc110>,\n",
       "        <matplotlib.axes._subplots.AxesSubplot object at 0x7fe4973dcb90>],\n",
       "       [<matplotlib.axes._subplots.AxesSubplot object at 0x7fe497412fd0>,\n",
       "        <matplotlib.axes._subplots.AxesSubplot object at 0x7fe49737ea10>,\n",
       "        <matplotlib.axes._subplots.AxesSubplot object at 0x7fe497335d10>]],\n",
       "      dtype=object)"
      ]
     },
     "execution_count": 42,
     "metadata": {},
     "output_type": "execute_result"
    },
    {
     "data": {
      "image/png": "[encoded data removed]",
      "text/plain": [
       "<Figure size 432x288 with 12 Axes>"
      ]
     },
     "metadata": {},
     "output_type": "display_data"
    }
   ],
   "source": [
    "df_agrisolus.hist()"
   ]
  },
  {
   "cell_type": "code",
   "execution_count": 43,
   "metadata": {},
   "outputs": [
    {
     "data": {
      "text/html": [
       "<div>\n",
       "<style scoped>\n",
       "    .dataframe tbody tr th:only-of-type {\n",
       "        vertical-align: middle;\n",
       "    }\n",
       "\n",
       "    .dataframe tbody tr th {\n",
       "        vertical-align: top;\n",
       "    }\n",
       "\n",
       "    .dataframe thead th {\n",
       "        text-align: right;\n",
       "    }\n",
       "</style>\n",
       "<table border=\"1\" class=\"dataframe\">\n",
       "  <thead>\n",
       "    <tr style=\"text-align: right;\">\n",
       "      <th></th>\n",
       "      <th>Peso</th>\n",
       "      <th>Umidade</th>\n",
       "      <th>Temperatura</th>\n",
       "      <th>idLote</th>\n",
       "      <th>idLinhagem</th>\n",
       "      <th>idBalanca</th>\n",
       "      <th>PesoChegada</th>\n",
       "      <th>Idade</th>\n",
       "      <th>PesoEsperado</th>\n",
       "      <th>DiffPeso</th>\n",
       "      <th>cat_sexo</th>\n",
       "    </tr>\n",
       "  </thead>\n",
       "  <tbody>\n",
       "    <tr>\n",
       "      <th>Peso</th>\n",
       "      <td>1.000000</td>\n",
       "      <td>0.041619</td>\n",
       "      <td>-0.191583</td>\n",
       "      <td>0.069038</td>\n",
       "      <td>-0.069038</td>\n",
       "      <td>-0.006531</td>\n",
       "      <td>NaN</td>\n",
       "      <td>0.680386</td>\n",
       "      <td>0.642630</td>\n",
       "      <td>0.668365</td>\n",
       "      <td>-0.069038</td>\n",
       "    </tr>\n",
       "    <tr>\n",
       "      <th>Umidade</th>\n",
       "      <td>0.041619</td>\n",
       "      <td>1.000000</td>\n",
       "      <td>0.860991</td>\n",
       "      <td>-0.507837</td>\n",
       "      <td>0.507837</td>\n",
       "      <td>0.419167</td>\n",
       "      <td>NaN</td>\n",
       "      <td>0.152752</td>\n",
       "      <td>0.157726</td>\n",
       "      <td>-0.099345</td>\n",
       "      <td>0.507837</td>\n",
       "    </tr>\n",
       "    <tr>\n",
       "      <th>Temperatura</th>\n",
       "      <td>-0.191583</td>\n",
       "      <td>0.860991</td>\n",
       "      <td>1.000000</td>\n",
       "      <td>-0.508240</td>\n",
       "      <td>0.508240</td>\n",
       "      <td>0.430429</td>\n",
       "      <td>NaN</td>\n",
       "      <td>-0.191160</td>\n",
       "      <td>-0.172393</td>\n",
       "      <td>-0.080208</td>\n",
       "      <td>0.508240</td>\n",
       "    </tr>\n",
       "    <tr>\n",
       "      <th>idLote</th>\n",
       "      <td>0.069038</td>\n",
       "      <td>-0.507837</td>\n",
       "      <td>-0.508240</td>\n",
       "      <td>1.000000</td>\n",
       "      <td>-1.000000</td>\n",
       "      <td>0.509881</td>\n",
       "      <td>NaN</td>\n",
       "      <td>0.066415</td>\n",
       "      <td>0.038396</td>\n",
       "      <td>0.051938</td>\n",
       "      <td>-1.000000</td>\n",
       "    </tr>\n",
       "    <tr>\n",
       "      <th>idLinhagem</th>\n",
       "      <td>-0.069038</td>\n",
       "      <td>0.507837</td>\n",
       "      <td>0.508240</td>\n",
       "      <td>-1.000000</td>\n",
       "      <td>1.000000</td>\n",
       "      <td>-0.509881</td>\n",
       "      <td>NaN</td>\n",
       "      <td>-0.066415</td>\n",
       "      <td>-0.038396</td>\n",
       "      <td>-0.051938</td>\n",
       "      <td>1.000000</td>\n",
       "    </tr>\n",
       "    <tr>\n",
       "      <th>idBalanca</th>\n",
       "      <td>-0.006531</td>\n",
       "      <td>0.419167</td>\n",
       "      <td>0.430429</td>\n",
       "      <td>0.509881</td>\n",
       "      <td>-0.509881</td>\n",
       "      <td>1.000000</td>\n",
       "      <td>NaN</td>\n",
       "      <td>0.061618</td>\n",
       "      <td>0.046832</td>\n",
       "      <td>-0.053906</td>\n",
       "      <td>-0.509881</td>\n",
       "    </tr>\n",
       "    <tr>\n",
       "      <th>PesoChegada</th>\n",
       "      <td>NaN</td>\n",
       "      <td>NaN</td>\n",
       "      <td>NaN</td>\n",
       "      <td>NaN</td>\n",
       "      <td>NaN</td>\n",
       "      <td>NaN</td>\n",
       "      <td>NaN</td>\n",
       "      <td>NaN</td>\n",
       "      <td>NaN</td>\n",
       "      <td>NaN</td>\n",
       "      <td>NaN</td>\n",
       "    </tr>\n",
       "    <tr>\n",
       "      <th>Idade</th>\n",
       "      <td>0.680386</td>\n",
       "      <td>0.152752</td>\n",
       "      <td>-0.191160</td>\n",
       "      <td>0.066415</td>\n",
       "      <td>-0.066415</td>\n",
       "      <td>0.061618</td>\n",
       "      <td>NaN</td>\n",
       "      <td>1.000000</td>\n",
       "      <td>0.989635</td>\n",
       "      <td>-0.081543</td>\n",
       "      <td>-0.066415</td>\n",
       "    </tr>\n",
       "    <tr>\n",
       "      <th>PesoEsperado</th>\n",
       "      <td>0.642630</td>\n",
       "      <td>0.157726</td>\n",
       "      <td>-0.172393</td>\n",
       "      <td>0.038396</td>\n",
       "      <td>-0.038396</td>\n",
       "      <td>0.046832</td>\n",
       "      <td>NaN</td>\n",
       "      <td>0.989635</td>\n",
       "      <td>1.000000</td>\n",
       "      <td>-0.140396</td>\n",
       "      <td>-0.038396</td>\n",
       "    </tr>\n",
       "    <tr>\n",
       "      <th>DiffPeso</th>\n",
       "      <td>0.668365</td>\n",
       "      <td>-0.099345</td>\n",
       "      <td>-0.080208</td>\n",
       "      <td>0.051938</td>\n",
       "      <td>-0.051938</td>\n",
       "      <td>-0.053906</td>\n",
       "      <td>NaN</td>\n",
       "      <td>-0.081543</td>\n",
       "      <td>-0.140396</td>\n",
       "      <td>1.000000</td>\n",
       "      <td>-0.051938</td>\n",
       "    </tr>\n",
       "    <tr>\n",
       "      <th>cat_sexo</th>\n",
       "      <td>-0.069038</td>\n",
       "      <td>0.507837</td>\n",
       "      <td>0.508240</td>\n",
       "      <td>-1.000000</td>\n",
       "      <td>1.000000</td>\n",
       "      <td>-0.509881</td>\n",
       "      <td>NaN</td>\n",
       "      <td>-0.066415</td>\n",
       "      <td>-0.038396</td>\n",
       "      <td>-0.051938</td>\n",
       "      <td>1.000000</td>\n",
       "    </tr>\n",
       "  </tbody>\n",
       "</table>\n",
       "</div>"
      ],
      "text/plain": [
       "                  Peso   Umidade  Temperatura    idLote  idLinhagem  \\\n",
       "Peso          1.000000  0.041619    -0.191583  0.069038   -0.069038   \n",
       "Umidade       0.041619  1.000000     0.860991 -0.507837    0.507837   \n",
       "Temperatura  -0.191583  0.860991     1.000000 -0.508240    0.508240   \n",
       "idLote        0.069038 -0.507837    -0.508240  1.000000   -1.000000   \n",
       "idLinhagem   -0.069038  0.507837     0.508240 -1.000000    1.000000   \n",
       "idBalanca    -0.006531  0.419167     0.430429  0.509881   -0.509881   \n",
       "PesoChegada        NaN       NaN          NaN       NaN         NaN   \n",
       "Idade         0.680386  0.152752    -0.191160  0.066415   -0.066415   \n",
       "PesoEsperado  0.642630  0.157726    -0.172393  0.038396   -0.038396   \n",
       "DiffPeso      0.668365 -0.099345    -0.080208  0.051938   -0.051938   \n",
       "cat_sexo     -0.069038  0.507837     0.508240 -1.000000    1.000000   \n",
       "\n",
       "              idBalanca  PesoChegada     Idade  PesoEsperado  DiffPeso  \\\n",
       "Peso          -0.006531          NaN  0.680386      0.642630  0.668365   \n",
       "Umidade        0.419167          NaN  0.152752      0.157726 -0.099345   \n",
       "Temperatura    0.430429          NaN -0.191160     -0.172393 -0.080208   \n",
       "idLote         0.509881          NaN  0.066415      0.038396  0.051938   \n",
       "idLinhagem    -0.509881          NaN -0.066415     -0.038396 -0.051938   \n",
       "idBalanca      1.000000          NaN  0.061618      0.046832 -0.053906   \n",
       "PesoChegada         NaN          NaN       NaN           NaN       NaN   \n",
       "Idade          0.061618          NaN  1.000000      0.989635 -0.081543   \n",
       "PesoEsperado   0.046832          NaN  0.989635      1.000000 -0.140396   \n",
       "DiffPeso      -0.053906          NaN -0.081543     -0.140396  1.000000   \n",
       "cat_sexo      -0.509881          NaN -0.066415     -0.038396 -0.051938   \n",
       "\n",
       "              cat_sexo  \n",
       "Peso         -0.069038  \n",
       "Umidade       0.507837  \n",
       "Temperatura   0.508240  \n",
       "idLote       -1.000000  \n",
       "idLinhagem    1.000000  \n",
       "idBalanca    -0.509881  \n",
       "PesoChegada        NaN  \n",
       "Idade        -0.066415  \n",
       "PesoEsperado -0.038396  \n",
       "DiffPeso     -0.051938  \n",
       "cat_sexo      1.000000  "
      ]
     },
     "execution_count": 43,
     "metadata": {},
     "output_type": "execute_result"
    }
   ],
   "source": [
    "#matriz de correlação dos dados\n",
    "\n",
    "df_agrisolus.corr()"
   ]
  },
  {
   "cell_type": "markdown",
   "metadata": {},
   "source": [
    "## Insites para a exploração de dados\n",
    "\n",
    "* Altas correlaçoes\n",
    "\n",
    "    * Peso vs Idade    \n",
    "    * Peso vs PesoEsperado    \n",
    "    * Peso vs DiffPeso   \n",
    "    * Peso Esperado vs Idade   \n",
    "    * Umidade vs Temperatura   \n",
    "    * Idade vs PesoEsperado    \n",
    "    \n",
    "Obs tentar analisar por lote"
   ]
  },
  {
   "cell_type": "markdown",
   "metadata": {},
   "source": [
    "### Pelas análises anteriores, Temperatura e Umidade serão descartadas porque apresentam outliers"
   ]
  },
  {
   "cell_type": "markdown",
   "metadata": {},
   "source": [
    "* Separando os banco de dados por idLote como features"
   ]
  },
  {
   "cell_type": "code",
   "execution_count": 9,
   "metadata": {},
   "outputs": [
    {
     "data": {
      "text/html": [
       "<div>\n",
       "<style scoped>\n",
       "    .dataframe tbody tr th:only-of-type {\n",
       "        vertical-align: middle;\n",
       "    }\n",
       "\n",
       "    .dataframe tbody tr th {\n",
       "        vertical-align: top;\n",
       "    }\n",
       "\n",
       "    .dataframe thead th {\n",
       "        text-align: right;\n",
       "    }\n",
       "</style>\n",
       "<table border=\"1\" class=\"dataframe\">\n",
       "  <thead>\n",
       "    <tr style=\"text-align: right;\">\n",
       "      <th></th>\n",
       "      <th>Peso</th>\n",
       "      <th>Umidade</th>\n",
       "      <th>Temperatura</th>\n",
       "      <th>idLote</th>\n",
       "      <th>idLinhagem</th>\n",
       "      <th>idBalanca</th>\n",
       "      <th>Sexo</th>\n",
       "      <th>PesoChegada</th>\n",
       "      <th>Idade</th>\n",
       "      <th>PesoEsperado</th>\n",
       "      <th>...</th>\n",
       "      <th>Minuto</th>\n",
       "      <th>Ano_abate</th>\n",
       "      <th>Mes_abate</th>\n",
       "      <th>Dia_abate</th>\n",
       "      <th>Hora_abate</th>\n",
       "      <th>Minuto_abate</th>\n",
       "      <th>Ano_alojamento</th>\n",
       "      <th>Mes_alojamento</th>\n",
       "      <th>Dia_alojamento</th>\n",
       "      <th>cat_sexo</th>\n",
       "    </tr>\n",
       "  </thead>\n",
       "  <tbody>\n",
       "    <tr>\n",
       "      <th>279</th>\n",
       "      <td>25.6778</td>\n",
       "      <td>70.6</td>\n",
       "      <td>32.8</td>\n",
       "      <td>1</td>\n",
       "      <td>16</td>\n",
       "      <td>2848352</td>\n",
       "      <td>Mistos Cobb MV GT Foods</td>\n",
       "      <td>38.0</td>\n",
       "      <td>1</td>\n",
       "      <td>43.335245</td>\n",
       "      <td>...</td>\n",
       "      <td>24</td>\n",
       "      <td>2019</td>\n",
       "      <td>05</td>\n",
       "      <td>20</td>\n",
       "      <td>02</td>\n",
       "      <td>00</td>\n",
       "      <td>2019</td>\n",
       "      <td>04</td>\n",
       "      <td>06</td>\n",
       "      <td>1</td>\n",
       "    </tr>\n",
       "    <tr>\n",
       "      <th>280</th>\n",
       "      <td>40.6277</td>\n",
       "      <td>70.7</td>\n",
       "      <td>32.8</td>\n",
       "      <td>1</td>\n",
       "      <td>16</td>\n",
       "      <td>2848352</td>\n",
       "      <td>Mistos Cobb MV GT Foods</td>\n",
       "      <td>38.0</td>\n",
       "      <td>1</td>\n",
       "      <td>43.335245</td>\n",
       "      <td>...</td>\n",
       "      <td>24</td>\n",
       "      <td>2019</td>\n",
       "      <td>05</td>\n",
       "      <td>20</td>\n",
       "      <td>02</td>\n",
       "      <td>00</td>\n",
       "      <td>2019</td>\n",
       "      <td>04</td>\n",
       "      <td>06</td>\n",
       "      <td>1</td>\n",
       "    </tr>\n",
       "    <tr>\n",
       "      <th>281</th>\n",
       "      <td>48.5603</td>\n",
       "      <td>70.7</td>\n",
       "      <td>32.8</td>\n",
       "      <td>1</td>\n",
       "      <td>16</td>\n",
       "      <td>2848352</td>\n",
       "      <td>Mistos Cobb MV GT Foods</td>\n",
       "      <td>38.0</td>\n",
       "      <td>1</td>\n",
       "      <td>43.335245</td>\n",
       "      <td>...</td>\n",
       "      <td>24</td>\n",
       "      <td>2019</td>\n",
       "      <td>05</td>\n",
       "      <td>20</td>\n",
       "      <td>02</td>\n",
       "      <td>00</td>\n",
       "      <td>2019</td>\n",
       "      <td>04</td>\n",
       "      <td>06</td>\n",
       "      <td>1</td>\n",
       "    </tr>\n",
       "    <tr>\n",
       "      <th>282</th>\n",
       "      <td>39.7124</td>\n",
       "      <td>70.7</td>\n",
       "      <td>32.8</td>\n",
       "      <td>1</td>\n",
       "      <td>16</td>\n",
       "      <td>2848352</td>\n",
       "      <td>Mistos Cobb MV GT Foods</td>\n",
       "      <td>38.0</td>\n",
       "      <td>1</td>\n",
       "      <td>43.335245</td>\n",
       "      <td>...</td>\n",
       "      <td>24</td>\n",
       "      <td>2019</td>\n",
       "      <td>05</td>\n",
       "      <td>20</td>\n",
       "      <td>02</td>\n",
       "      <td>00</td>\n",
       "      <td>2019</td>\n",
       "      <td>04</td>\n",
       "      <td>06</td>\n",
       "      <td>1</td>\n",
       "    </tr>\n",
       "    <tr>\n",
       "      <th>283</th>\n",
       "      <td>28.4237</td>\n",
       "      <td>70.9</td>\n",
       "      <td>32.8</td>\n",
       "      <td>1</td>\n",
       "      <td>16</td>\n",
       "      <td>2848352</td>\n",
       "      <td>Mistos Cobb MV GT Foods</td>\n",
       "      <td>38.0</td>\n",
       "      <td>1</td>\n",
       "      <td>43.335245</td>\n",
       "      <td>...</td>\n",
       "      <td>25</td>\n",
       "      <td>2019</td>\n",
       "      <td>05</td>\n",
       "      <td>20</td>\n",
       "      <td>02</td>\n",
       "      <td>00</td>\n",
       "      <td>2019</td>\n",
       "      <td>04</td>\n",
       "      <td>06</td>\n",
       "      <td>1</td>\n",
       "    </tr>\n",
       "    <tr>\n",
       "      <th>...</th>\n",
       "      <td>...</td>\n",
       "      <td>...</td>\n",
       "      <td>...</td>\n",
       "      <td>...</td>\n",
       "      <td>...</td>\n",
       "      <td>...</td>\n",
       "      <td>...</td>\n",
       "      <td>...</td>\n",
       "      <td>...</td>\n",
       "      <td>...</td>\n",
       "      <td>...</td>\n",
       "      <td>...</td>\n",
       "      <td>...</td>\n",
       "      <td>...</td>\n",
       "      <td>...</td>\n",
       "      <td>...</td>\n",
       "      <td>...</td>\n",
       "      <td>...</td>\n",
       "      <td>...</td>\n",
       "      <td>...</td>\n",
       "      <td>...</td>\n",
       "    </tr>\n",
       "    <tr>\n",
       "      <th>1977987</th>\n",
       "      <td>2859.1162</td>\n",
       "      <td>84.0</td>\n",
       "      <td>20.1</td>\n",
       "      <td>1</td>\n",
       "      <td>16</td>\n",
       "      <td>2843680</td>\n",
       "      <td>Mistos Cobb MV GT Foods</td>\n",
       "      <td>38.0</td>\n",
       "      <td>1050</td>\n",
       "      <td>3121.117738</td>\n",
       "      <td>...</td>\n",
       "      <td>16</td>\n",
       "      <td>2019</td>\n",
       "      <td>05</td>\n",
       "      <td>20</td>\n",
       "      <td>02</td>\n",
       "      <td>00</td>\n",
       "      <td>2019</td>\n",
       "      <td>04</td>\n",
       "      <td>06</td>\n",
       "      <td>1</td>\n",
       "    </tr>\n",
       "    <tr>\n",
       "      <th>1977990</th>\n",
       "      <td>2887.7098</td>\n",
       "      <td>84.0</td>\n",
       "      <td>20.1</td>\n",
       "      <td>1</td>\n",
       "      <td>16</td>\n",
       "      <td>2843680</td>\n",
       "      <td>Mistos Cobb MV GT Foods</td>\n",
       "      <td>38.0</td>\n",
       "      <td>1050</td>\n",
       "      <td>3121.117738</td>\n",
       "      <td>...</td>\n",
       "      <td>16</td>\n",
       "      <td>2019</td>\n",
       "      <td>05</td>\n",
       "      <td>20</td>\n",
       "      <td>02</td>\n",
       "      <td>00</td>\n",
       "      <td>2019</td>\n",
       "      <td>04</td>\n",
       "      <td>06</td>\n",
       "      <td>1</td>\n",
       "    </tr>\n",
       "    <tr>\n",
       "      <th>1977991</th>\n",
       "      <td>2862.2242</td>\n",
       "      <td>84.0</td>\n",
       "      <td>20.1</td>\n",
       "      <td>1</td>\n",
       "      <td>16</td>\n",
       "      <td>2843680</td>\n",
       "      <td>Mistos Cobb MV GT Foods</td>\n",
       "      <td>38.0</td>\n",
       "      <td>1050</td>\n",
       "      <td>3121.117738</td>\n",
       "      <td>...</td>\n",
       "      <td>16</td>\n",
       "      <td>2019</td>\n",
       "      <td>05</td>\n",
       "      <td>20</td>\n",
       "      <td>02</td>\n",
       "      <td>00</td>\n",
       "      <td>2019</td>\n",
       "      <td>04</td>\n",
       "      <td>06</td>\n",
       "      <td>1</td>\n",
       "    </tr>\n",
       "    <tr>\n",
       "      <th>1977993</th>\n",
       "      <td>2895.1690</td>\n",
       "      <td>84.0</td>\n",
       "      <td>20.1</td>\n",
       "      <td>1</td>\n",
       "      <td>16</td>\n",
       "      <td>2843680</td>\n",
       "      <td>Mistos Cobb MV GT Foods</td>\n",
       "      <td>38.0</td>\n",
       "      <td>1050</td>\n",
       "      <td>3121.117738</td>\n",
       "      <td>...</td>\n",
       "      <td>16</td>\n",
       "      <td>2019</td>\n",
       "      <td>05</td>\n",
       "      <td>20</td>\n",
       "      <td>02</td>\n",
       "      <td>00</td>\n",
       "      <td>2019</td>\n",
       "      <td>04</td>\n",
       "      <td>06</td>\n",
       "      <td>1</td>\n",
       "    </tr>\n",
       "    <tr>\n",
       "      <th>1978408</th>\n",
       "      <td>3436.5826</td>\n",
       "      <td>83.6</td>\n",
       "      <td>20.5</td>\n",
       "      <td>1</td>\n",
       "      <td>16</td>\n",
       "      <td>2843680</td>\n",
       "      <td>Mistos Cobb MV GT Foods</td>\n",
       "      <td>38.0</td>\n",
       "      <td>1051</td>\n",
       "      <td>3125.103503</td>\n",
       "      <td>...</td>\n",
       "      <td>52</td>\n",
       "      <td>2019</td>\n",
       "      <td>05</td>\n",
       "      <td>20</td>\n",
       "      <td>02</td>\n",
       "      <td>00</td>\n",
       "      <td>2019</td>\n",
       "      <td>04</td>\n",
       "      <td>06</td>\n",
       "      <td>1</td>\n",
       "    </tr>\n",
       "  </tbody>\n",
       "</table>\n",
       "<p>984529 rows × 25 columns</p>\n",
       "</div>"
      ],
      "text/plain": [
       "              Peso  Umidade  Temperatura  idLote  idLinhagem  idBalanca  \\\n",
       "279        25.6778     70.6         32.8       1          16    2848352   \n",
       "280        40.6277     70.7         32.8       1          16    2848352   \n",
       "281        48.5603     70.7         32.8       1          16    2848352   \n",
       "282        39.7124     70.7         32.8       1          16    2848352   \n",
       "283        28.4237     70.9         32.8       1          16    2848352   \n",
       "...            ...      ...          ...     ...         ...        ...   \n",
       "1977987  2859.1162     84.0         20.1       1          16    2843680   \n",
       "1977990  2887.7098     84.0         20.1       1          16    2843680   \n",
       "1977991  2862.2242     84.0         20.1       1          16    2843680   \n",
       "1977993  2895.1690     84.0         20.1       1          16    2843680   \n",
       "1978408  3436.5826     83.6         20.5       1          16    2843680   \n",
       "\n",
       "                            Sexo  PesoChegada  Idade  PesoEsperado  ...  \\\n",
       "279      Mistos Cobb MV GT Foods         38.0      1     43.335245  ...   \n",
       "280      Mistos Cobb MV GT Foods         38.0      1     43.335245  ...   \n",
       "281      Mistos Cobb MV GT Foods         38.0      1     43.335245  ...   \n",
       "282      Mistos Cobb MV GT Foods         38.0      1     43.335245  ...   \n",
       "283      Mistos Cobb MV GT Foods         38.0      1     43.335245  ...   \n",
       "...                          ...          ...    ...           ...  ...   \n",
       "1977987  Mistos Cobb MV GT Foods         38.0   1050   3121.117738  ...   \n",
       "1977990  Mistos Cobb MV GT Foods         38.0   1050   3121.117738  ...   \n",
       "1977991  Mistos Cobb MV GT Foods         38.0   1050   3121.117738  ...   \n",
       "1977993  Mistos Cobb MV GT Foods         38.0   1050   3121.117738  ...   \n",
       "1978408  Mistos Cobb MV GT Foods         38.0   1051   3125.103503  ...   \n",
       "\n",
       "         Minuto Ano_abate Mes_abate Dia_abate Hora_abate Minuto_abate  \\\n",
       "279          24      2019        05        20         02           00   \n",
       "280          24      2019        05        20         02           00   \n",
       "281          24      2019        05        20         02           00   \n",
       "282          24      2019        05        20         02           00   \n",
       "283          25      2019        05        20         02           00   \n",
       "...         ...       ...       ...       ...        ...          ...   \n",
       "1977987      16      2019        05        20         02           00   \n",
       "1977990      16      2019        05        20         02           00   \n",
       "1977991      16      2019        05        20         02           00   \n",
       "1977993      16      2019        05        20         02           00   \n",
       "1978408      52      2019        05        20         02           00   \n",
       "\n",
       "        Ano_alojamento Mes_alojamento Dia_alojamento cat_sexo  \n",
       "279               2019             04             06        1  \n",
       "280               2019             04             06        1  \n",
       "281               2019             04             06        1  \n",
       "282               2019             04             06        1  \n",
       "283               2019             04             06        1  \n",
       "...                ...            ...            ...      ...  \n",
       "1977987           2019             04             06        1  \n",
       "1977990           2019             04             06        1  \n",
       "1977991           2019             04             06        1  \n",
       "1977993           2019             04             06        1  \n",
       "1978408           2019             04             06        1  \n",
       "\n",
       "[984529 rows x 25 columns]"
      ]
     },
     "execution_count": 9,
     "metadata": {},
     "output_type": "execute_result"
    }
   ],
   "source": [
    "subset_1 = df_agrisolus.loc[df_agrisolus.idLote == 1]  #dados do lote 1\n",
    "\n",
    "subset_1"
   ]
  },
  {
   "cell_type": "markdown",
   "metadata": {},
   "source": [
    "### Algoritmo para Classificação por arvore de decisao para o Lote 1"
   ]
  },
  {
   "cell_type": "markdown",
   "metadata": {},
   "source": [
    "Variaveis utilizadas:\n",
    "    \n",
    "X = conjunto de dados para entrada   \n",
    "y = conjunto de dados para predicao   \n",
    "tree = Objeto para regressao por arvore de decisao   \n",
    "y_predict = Dados preditos pelo modelo   \n",
    "X_train = Conjunto de dados de entrada para treino   \n",
    "X_test = Conjunto para teste   \n",
    "y_train = resposta de treino   \n",
    "y_test = resposta de teste   "
   ]
  },
  {
   "cell_type": "code",
   "execution_count": 10,
   "metadata": {},
   "outputs": [
    {
     "name": "stdout",
     "output_type": "stream",
     "text": [
      "         Idade\n",
      "279          1\n",
      "280          1\n",
      "281          1\n",
      "282          1\n",
      "283          1\n",
      "...        ...\n",
      "1977987   1050\n",
      "1977990   1050\n",
      "1977991   1050\n",
      "1977993   1050\n",
      "1978408   1051\n",
      "\n",
      "[984529 rows x 1 columns]               Peso\n",
      "279        25.6778\n",
      "280        40.6277\n",
      "281        48.5603\n",
      "282        39.7124\n",
      "283        28.4237\n",
      "...            ...\n",
      "1977987  2859.1162\n",
      "1977990  2887.7098\n",
      "1977991  2862.2242\n",
      "1977993  2895.1690\n",
      "1978408  3436.5826\n",
      "\n",
      "[984529 rows x 1 columns]\n"
     ]
    }
   ],
   "source": [
    "X = subset_1.loc[:,['Idade']]\n",
    "y = subset_1.loc[:,['Peso']]\n",
    "\n",
    "print(X,y)"
   ]
  },
  {
   "cell_type": "markdown",
   "metadata": {},
   "source": [
    "### Inicio do algoritmo"
   ]
  },
  {
   "cell_type": "markdown",
   "metadata": {},
   "source": [
    "* Inicializando o objeto Arvore de Decisao por regressao"
   ]
  },
  {
   "cell_type": "code",
   "execution_count": 11,
   "metadata": {},
   "outputs": [],
   "source": [
    "from sklearn.tree import DecisionTreeRegressor  \n",
    "\n",
    "\n",
    "tree = DecisionTreeRegressor()    \n"
   ]
  },
  {
   "cell_type": "markdown",
   "metadata": {},
   "source": [
    "* Dividindo o conjunto a partir dos dados, ou seja, dados para teste e treino do modelo"
   ]
  },
  {
   "cell_type": "code",
   "execution_count": 12,
   "metadata": {},
   "outputs": [],
   "source": [
    "X_train, X_test, y_train, y_test = train_test_split(X,y, test_size = 0.3, random_state = 50)\n",
    "\n",
    "#test_size tamanho da populacao para teste, recomendado 0.3\n",
    "#random_state quantidade de combinacoes aleatorias "
   ]
  },
  {
   "cell_type": "markdown",
   "metadata": {},
   "source": [
    "* Treino do modelo considerando o conjunto para treino"
   ]
  },
  {
   "cell_type": "code",
   "execution_count": 13,
   "metadata": {},
   "outputs": [
    {
     "data": {
      "text/plain": [
       "DecisionTreeRegressor(ccp_alpha=0.0, criterion='mse', max_depth=None,\n",
       "                      max_features=None, max_leaf_nodes=None,\n",
       "                      min_impurity_decrease=0.0, min_impurity_split=None,\n",
       "                      min_samples_leaf=1, min_samples_split=2,\n",
       "                      min_weight_fraction_leaf=0.0, presort='deprecated',\n",
       "                      random_state=None, splitter='best')"
      ]
     },
     "execution_count": 13,
     "metadata": {},
     "output_type": "execute_result"
    }
   ],
   "source": [
    "# fit the regressor with X and Y data \n",
    "tree.fit(X_train, y_train) "
   ]
  },
  {
   "cell_type": "markdown",
   "metadata": {},
   "source": [
    "* Utilizando o modelo treinado em um conjunto de entradas para teste"
   ]
  },
  {
   "cell_type": "code",
   "execution_count": 14,
   "metadata": {},
   "outputs": [],
   "source": [
    "y_predict_tree= tree.predict(X_test)\n"
   ]
  },
  {
   "cell_type": "markdown",
   "metadata": {},
   "source": [
    "* Avaliando a \"acuracia\" do modelo "
   ]
  },
  {
   "cell_type": "code",
   "execution_count": 15,
   "metadata": {},
   "outputs": [
    {
     "name": "stdout",
     "output_type": "stream",
     "text": [
      "0.5815460271427433\n"
     ]
    }
   ],
   "source": [
    "print(r2_score(y_test,y_predict_tree))"
   ]
  },
  {
   "cell_type": "code",
   "execution_count": 46,
   "metadata": {},
   "outputs": [
    {
     "data": {
      "image/png": "[encoded data removed]",
      "text/plain": [
       "<Figure size 1080x360 with 1 Axes>"
      ]
     },
     "metadata": {},
     "output_type": "display_data"
    }
   ],
   "source": [
    "fig,axis = plt.subplots(figsize=(15,5))\n",
    "plt.scatter(X_test,y_test, color = 'b', label='Conjunto de teste')\n",
    "plt.scatter(X_test, y_predict_tree, color ='y', label='Predicao por arvore de regressao')\n",
    "plt.title('Arvore de Decisao e Dados para teste')\n",
    "\n",
    "plt.xlabel('Idade (dias)')\n",
    "plt.ylabel('Peso (gramas)')\n",
    "plt.legend()\n",
    "\n",
    "plt.grid(True)"
   ]
  },
  {
   "cell_type": "markdown",
   "metadata": {},
   "source": [
    "* Avaliacao visual dos dados preditos pelo modelo por arvore "
   ]
  },
  {
   "cell_type": "markdown",
   "metadata": {},
   "source": [
    "--------------------------\n",
    "### Avaliando para o Lote 2"
   ]
  },
  {
   "cell_type": "code",
   "execution_count": 47,
   "metadata": {},
   "outputs": [
    {
     "data": {
      "text/html": [
       "<div>\n",
       "<style scoped>\n",
       "    .dataframe tbody tr th:only-of-type {\n",
       "        vertical-align: middle;\n",
       "    }\n",
       "\n",
       "    .dataframe tbody tr th {\n",
       "        vertical-align: top;\n",
       "    }\n",
       "\n",
       "    .dataframe thead th {\n",
       "        text-align: right;\n",
       "    }\n",
       "</style>\n",
       "<table border=\"1\" class=\"dataframe\">\n",
       "  <thead>\n",
       "    <tr style=\"text-align: right;\">\n",
       "      <th></th>\n",
       "      <th>Peso</th>\n",
       "      <th>Umidade</th>\n",
       "      <th>Temperatura</th>\n",
       "      <th>idLote</th>\n",
       "      <th>idLinhagem</th>\n",
       "      <th>idBalanca</th>\n",
       "      <th>Sexo</th>\n",
       "      <th>PesoChegada</th>\n",
       "      <th>Idade</th>\n",
       "      <th>PesoEsperado</th>\n",
       "      <th>...</th>\n",
       "      <th>Minuto</th>\n",
       "      <th>Ano_abate</th>\n",
       "      <th>Mes_abate</th>\n",
       "      <th>Dia_abate</th>\n",
       "      <th>Hora_abate</th>\n",
       "      <th>Minuto_abate</th>\n",
       "      <th>Ano_alojamento</th>\n",
       "      <th>Mes_alojamento</th>\n",
       "      <th>Dia_alojamento</th>\n",
       "      <th>cat_sexo</th>\n",
       "    </tr>\n",
       "  </thead>\n",
       "  <tbody>\n",
       "    <tr>\n",
       "      <th>0</th>\n",
       "      <td>20.5748</td>\n",
       "      <td>0.0</td>\n",
       "      <td>0.0</td>\n",
       "      <td>2</td>\n",
       "      <td>15</td>\n",
       "      <td>2843900</td>\n",
       "      <td>Fêmeas Cobb MV GT Foods</td>\n",
       "      <td>38.0</td>\n",
       "      <td>0</td>\n",
       "      <td>42.000000</td>\n",
       "      <td>...</td>\n",
       "      <td>10</td>\n",
       "      <td>2019</td>\n",
       "      <td>05</td>\n",
       "      <td>25</td>\n",
       "      <td>09</td>\n",
       "      <td>30</td>\n",
       "      <td>2019</td>\n",
       "      <td>04</td>\n",
       "      <td>06</td>\n",
       "      <td>0</td>\n",
       "    </tr>\n",
       "    <tr>\n",
       "      <th>1</th>\n",
       "      <td>42.5538</td>\n",
       "      <td>68.2</td>\n",
       "      <td>32.1</td>\n",
       "      <td>2</td>\n",
       "      <td>15</td>\n",
       "      <td>2861839</td>\n",
       "      <td>Fêmeas Cobb MV GT Foods</td>\n",
       "      <td>38.0</td>\n",
       "      <td>0</td>\n",
       "      <td>42.000000</td>\n",
       "      <td>...</td>\n",
       "      <td>10</td>\n",
       "      <td>2019</td>\n",
       "      <td>05</td>\n",
       "      <td>25</td>\n",
       "      <td>09</td>\n",
       "      <td>30</td>\n",
       "      <td>2019</td>\n",
       "      <td>04</td>\n",
       "      <td>06</td>\n",
       "      <td>0</td>\n",
       "    </tr>\n",
       "    <tr>\n",
       "      <th>2</th>\n",
       "      <td>33.6798</td>\n",
       "      <td>67.9</td>\n",
       "      <td>32.1</td>\n",
       "      <td>2</td>\n",
       "      <td>15</td>\n",
       "      <td>2861839</td>\n",
       "      <td>Fêmeas Cobb MV GT Foods</td>\n",
       "      <td>38.0</td>\n",
       "      <td>0</td>\n",
       "      <td>42.000000</td>\n",
       "      <td>...</td>\n",
       "      <td>10</td>\n",
       "      <td>2019</td>\n",
       "      <td>05</td>\n",
       "      <td>25</td>\n",
       "      <td>09</td>\n",
       "      <td>30</td>\n",
       "      <td>2019</td>\n",
       "      <td>04</td>\n",
       "      <td>06</td>\n",
       "      <td>0</td>\n",
       "    </tr>\n",
       "    <tr>\n",
       "      <th>3</th>\n",
       "      <td>25.7238</td>\n",
       "      <td>68.6</td>\n",
       "      <td>32.1</td>\n",
       "      <td>2</td>\n",
       "      <td>15</td>\n",
       "      <td>2861839</td>\n",
       "      <td>Fêmeas Cobb MV GT Foods</td>\n",
       "      <td>38.0</td>\n",
       "      <td>0</td>\n",
       "      <td>42.000000</td>\n",
       "      <td>...</td>\n",
       "      <td>12</td>\n",
       "      <td>2019</td>\n",
       "      <td>05</td>\n",
       "      <td>25</td>\n",
       "      <td>09</td>\n",
       "      <td>30</td>\n",
       "      <td>2019</td>\n",
       "      <td>04</td>\n",
       "      <td>06</td>\n",
       "      <td>0</td>\n",
       "    </tr>\n",
       "    <tr>\n",
       "      <th>4</th>\n",
       "      <td>39.4938</td>\n",
       "      <td>68.8</td>\n",
       "      <td>32.0</td>\n",
       "      <td>2</td>\n",
       "      <td>15</td>\n",
       "      <td>2861839</td>\n",
       "      <td>Fêmeas Cobb MV GT Foods</td>\n",
       "      <td>38.0</td>\n",
       "      <td>0</td>\n",
       "      <td>42.000000</td>\n",
       "      <td>...</td>\n",
       "      <td>13</td>\n",
       "      <td>2019</td>\n",
       "      <td>05</td>\n",
       "      <td>25</td>\n",
       "      <td>09</td>\n",
       "      <td>30</td>\n",
       "      <td>2019</td>\n",
       "      <td>04</td>\n",
       "      <td>06</td>\n",
       "      <td>0</td>\n",
       "    </tr>\n",
       "    <tr>\n",
       "      <th>...</th>\n",
       "      <td>...</td>\n",
       "      <td>...</td>\n",
       "      <td>...</td>\n",
       "      <td>...</td>\n",
       "      <td>...</td>\n",
       "      <td>...</td>\n",
       "      <td>...</td>\n",
       "      <td>...</td>\n",
       "      <td>...</td>\n",
       "      <td>...</td>\n",
       "      <td>...</td>\n",
       "      <td>...</td>\n",
       "      <td>...</td>\n",
       "      <td>...</td>\n",
       "      <td>...</td>\n",
       "      <td>...</td>\n",
       "      <td>...</td>\n",
       "      <td>...</td>\n",
       "      <td>...</td>\n",
       "      <td>...</td>\n",
       "      <td>...</td>\n",
       "    </tr>\n",
       "    <tr>\n",
       "      <th>2075583</th>\n",
       "      <td>5233.9554</td>\n",
       "      <td>0.0</td>\n",
       "      <td>0.0</td>\n",
       "      <td>2</td>\n",
       "      <td>15</td>\n",
       "      <td>2843900</td>\n",
       "      <td>Fêmeas Cobb MV GT Foods</td>\n",
       "      <td>38.0</td>\n",
       "      <td>1145</td>\n",
       "      <td>3235.825825</td>\n",
       "      <td>...</td>\n",
       "      <td>56</td>\n",
       "      <td>2019</td>\n",
       "      <td>05</td>\n",
       "      <td>25</td>\n",
       "      <td>09</td>\n",
       "      <td>30</td>\n",
       "      <td>2019</td>\n",
       "      <td>04</td>\n",
       "      <td>06</td>\n",
       "      <td>0</td>\n",
       "    </tr>\n",
       "    <tr>\n",
       "      <th>2075584</th>\n",
       "      <td>5238.8098</td>\n",
       "      <td>0.0</td>\n",
       "      <td>0.0</td>\n",
       "      <td>2</td>\n",
       "      <td>15</td>\n",
       "      <td>2843900</td>\n",
       "      <td>Fêmeas Cobb MV GT Foods</td>\n",
       "      <td>38.0</td>\n",
       "      <td>1145</td>\n",
       "      <td>3235.825825</td>\n",
       "      <td>...</td>\n",
       "      <td>56</td>\n",
       "      <td>2019</td>\n",
       "      <td>05</td>\n",
       "      <td>25</td>\n",
       "      <td>09</td>\n",
       "      <td>30</td>\n",
       "      <td>2019</td>\n",
       "      <td>04</td>\n",
       "      <td>06</td>\n",
       "      <td>0</td>\n",
       "    </tr>\n",
       "    <tr>\n",
       "      <th>2075585</th>\n",
       "      <td>5215.1446</td>\n",
       "      <td>0.0</td>\n",
       "      <td>0.0</td>\n",
       "      <td>2</td>\n",
       "      <td>15</td>\n",
       "      <td>2843900</td>\n",
       "      <td>Fêmeas Cobb MV GT Foods</td>\n",
       "      <td>38.0</td>\n",
       "      <td>1145</td>\n",
       "      <td>3235.825825</td>\n",
       "      <td>...</td>\n",
       "      <td>56</td>\n",
       "      <td>2019</td>\n",
       "      <td>05</td>\n",
       "      <td>25</td>\n",
       "      <td>09</td>\n",
       "      <td>30</td>\n",
       "      <td>2019</td>\n",
       "      <td>04</td>\n",
       "      <td>06</td>\n",
       "      <td>0</td>\n",
       "    </tr>\n",
       "    <tr>\n",
       "      <th>2075586</th>\n",
       "      <td>5247.0016</td>\n",
       "      <td>0.0</td>\n",
       "      <td>0.0</td>\n",
       "      <td>2</td>\n",
       "      <td>15</td>\n",
       "      <td>2843900</td>\n",
       "      <td>Fêmeas Cobb MV GT Foods</td>\n",
       "      <td>38.0</td>\n",
       "      <td>1145</td>\n",
       "      <td>3235.825825</td>\n",
       "      <td>...</td>\n",
       "      <td>56</td>\n",
       "      <td>2019</td>\n",
       "      <td>05</td>\n",
       "      <td>25</td>\n",
       "      <td>09</td>\n",
       "      <td>30</td>\n",
       "      <td>2019</td>\n",
       "      <td>04</td>\n",
       "      <td>06</td>\n",
       "      <td>0</td>\n",
       "    </tr>\n",
       "    <tr>\n",
       "      <th>2075587</th>\n",
       "      <td>5194.5134</td>\n",
       "      <td>0.0</td>\n",
       "      <td>0.0</td>\n",
       "      <td>2</td>\n",
       "      <td>15</td>\n",
       "      <td>2843900</td>\n",
       "      <td>Fêmeas Cobb MV GT Foods</td>\n",
       "      <td>38.0</td>\n",
       "      <td>1145</td>\n",
       "      <td>3235.825825</td>\n",
       "      <td>...</td>\n",
       "      <td>57</td>\n",
       "      <td>2019</td>\n",
       "      <td>05</td>\n",
       "      <td>25</td>\n",
       "      <td>09</td>\n",
       "      <td>30</td>\n",
       "      <td>2019</td>\n",
       "      <td>04</td>\n",
       "      <td>06</td>\n",
       "      <td>0</td>\n",
       "    </tr>\n",
       "  </tbody>\n",
       "</table>\n",
       "<p>1091059 rows × 25 columns</p>\n",
       "</div>"
      ],
      "text/plain": [
       "              Peso  Umidade  Temperatura  idLote  idLinhagem  idBalanca  \\\n",
       "0          20.5748      0.0          0.0       2          15    2843900   \n",
       "1          42.5538     68.2         32.1       2          15    2861839   \n",
       "2          33.6798     67.9         32.1       2          15    2861839   \n",
       "3          25.7238     68.6         32.1       2          15    2861839   \n",
       "4          39.4938     68.8         32.0       2          15    2861839   \n",
       "...            ...      ...          ...     ...         ...        ...   \n",
       "2075583  5233.9554      0.0          0.0       2          15    2843900   \n",
       "2075584  5238.8098      0.0          0.0       2          15    2843900   \n",
       "2075585  5215.1446      0.0          0.0       2          15    2843900   \n",
       "2075586  5247.0016      0.0          0.0       2          15    2843900   \n",
       "2075587  5194.5134      0.0          0.0       2          15    2843900   \n",
       "\n",
       "                            Sexo  PesoChegada  Idade  PesoEsperado  ...  \\\n",
       "0        Fêmeas Cobb MV GT Foods         38.0      0     42.000000  ...   \n",
       "1        Fêmeas Cobb MV GT Foods         38.0      0     42.000000  ...   \n",
       "2        Fêmeas Cobb MV GT Foods         38.0      0     42.000000  ...   \n",
       "3        Fêmeas Cobb MV GT Foods         38.0      0     42.000000  ...   \n",
       "4        Fêmeas Cobb MV GT Foods         38.0      0     42.000000  ...   \n",
       "...                          ...          ...    ...           ...  ...   \n",
       "2075583  Fêmeas Cobb MV GT Foods         38.0   1145   3235.825825  ...   \n",
       "2075584  Fêmeas Cobb MV GT Foods         38.0   1145   3235.825825  ...   \n",
       "2075585  Fêmeas Cobb MV GT Foods         38.0   1145   3235.825825  ...   \n",
       "2075586  Fêmeas Cobb MV GT Foods         38.0   1145   3235.825825  ...   \n",
       "2075587  Fêmeas Cobb MV GT Foods         38.0   1145   3235.825825  ...   \n",
       "\n",
       "         Minuto Ano_abate Mes_abate Dia_abate Hora_abate Minuto_abate  \\\n",
       "0            10      2019        05        25         09           30   \n",
       "1            10      2019        05        25         09           30   \n",
       "2            10      2019        05        25         09           30   \n",
       "3            12      2019        05        25         09           30   \n",
       "4            13      2019        05        25         09           30   \n",
       "...         ...       ...       ...       ...        ...          ...   \n",
       "2075583      56      2019        05        25         09           30   \n",
       "2075584      56      2019        05        25         09           30   \n",
       "2075585      56      2019        05        25         09           30   \n",
       "2075586      56      2019        05        25         09           30   \n",
       "2075587      57      2019        05        25         09           30   \n",
       "\n",
       "        Ano_alojamento Mes_alojamento Dia_alojamento cat_sexo  \n",
       "0                 2019             04             06        0  \n",
       "1                 2019             04             06        0  \n",
       "2                 2019             04             06        0  \n",
       "3                 2019             04             06        0  \n",
       "4                 2019             04             06        0  \n",
       "...                ...            ...            ...      ...  \n",
       "2075583           2019             04             06        0  \n",
       "2075584           2019             04             06        0  \n",
       "2075585           2019             04             06        0  \n",
       "2075586           2019             04             06        0  \n",
       "2075587           2019             04             06        0  \n",
       "\n",
       "[1091059 rows x 25 columns]"
      ]
     },
     "execution_count": 47,
     "metadata": {},
     "output_type": "execute_result"
    }
   ],
   "source": [
    "subset_2 = df_agrisolus.loc[df_agrisolus.idLote == 2]  #dados do lote 2\n",
    "\n",
    "subset_2"
   ]
  },
  {
   "cell_type": "markdown",
   "metadata": {},
   "source": [
    "### Algoritmo para Classificação por arvore de decisao para o Lote 2"
   ]
  },
  {
   "cell_type": "markdown",
   "metadata": {},
   "source": [
    "Variaveis utilizadas:\n",
    "    \n",
    "X_l2 = conjunto de dados para entrada   \n",
    "y_l2 = conjunto de dados para predicao   \n",
    "tree_l2 = Objeto para regressao por arvore de decisao   \n",
    "y_predict_l2 = Dados preditos pelo modelo   \n",
    "X_train_l2 = Conjunto de dados de entrada para treino   \n",
    "X_test_l2 = Conjunto para teste   \n",
    "y_train_l2 = resposta de treino   \n",
    "y_test_l2 = resposta de teste   "
   ]
  },
  {
   "cell_type": "code",
   "execution_count": 48,
   "metadata": {},
   "outputs": [
    {
     "name": "stdout",
     "output_type": "stream",
     "text": [
      "         Idade\n",
      "0            0\n",
      "1            0\n",
      "2            0\n",
      "3            0\n",
      "4            0\n",
      "...        ...\n",
      "2075583   1145\n",
      "2075584   1145\n",
      "2075585   1145\n",
      "2075586   1145\n",
      "2075587   1145\n",
      "\n",
      "[1091059 rows x 1 columns]               Peso\n",
      "0          20.5748\n",
      "1          42.5538\n",
      "2          33.6798\n",
      "3          25.7238\n",
      "4          39.4938\n",
      "...            ...\n",
      "2075583  5233.9554\n",
      "2075584  5238.8098\n",
      "2075585  5215.1446\n",
      "2075586  5247.0016\n",
      "2075587  5194.5134\n",
      "\n",
      "[1091059 rows x 1 columns]\n"
     ]
    }
   ],
   "source": [
    "X_l2 = subset_2.loc[:,['Idade']]\n",
    "y_l2 = subset_2.loc[:,['Peso']]\n",
    "\n",
    "print(X_l2,y_l2)"
   ]
  },
  {
   "cell_type": "markdown",
   "metadata": {},
   "source": [
    "### Inicio do algoritmo"
   ]
  },
  {
   "cell_type": "markdown",
   "metadata": {},
   "source": [
    "* Inicializando o objeto Arvore de Decisao por regressao"
   ]
  },
  {
   "cell_type": "code",
   "execution_count": 49,
   "metadata": {},
   "outputs": [],
   "source": [
    "from sklearn.tree import DecisionTreeRegressor  \n",
    "\n",
    "\n",
    "tree_l2 = DecisionTreeRegressor()  "
   ]
  },
  {
   "cell_type": "markdown",
   "metadata": {},
   "source": [
    "* Dividindo o conjunto a partir dos dados, ou seja, dados para teste e treino do modelo"
   ]
  },
  {
   "cell_type": "code",
   "execution_count": 50,
   "metadata": {},
   "outputs": [],
   "source": [
    "X_train_l2, X_test_l2, y_train_l2, y_test_l2 = train_test_split(X_l2,y_l2, test_size = 0.3, random_state = 50)\n",
    "\n",
    "#test_size tamanho da populacao para teste\n",
    "#random_state quantidade de combinacoes aleatorias"
   ]
  },
  {
   "cell_type": "markdown",
   "metadata": {},
   "source": [
    "* Treino do modelo considerando o conjunto para treino"
   ]
  },
  {
   "cell_type": "code",
   "execution_count": 51,
   "metadata": {},
   "outputs": [
    {
     "data": {
      "text/plain": [
       "DecisionTreeRegressor(ccp_alpha=0.0, criterion='mse', max_depth=None,\n",
       "                      max_features=None, max_leaf_nodes=None,\n",
       "                      min_impurity_decrease=0.0, min_impurity_split=None,\n",
       "                      min_samples_leaf=1, min_samples_split=2,\n",
       "                      min_weight_fraction_leaf=0.0, presort='deprecated',\n",
       "                      random_state=None, splitter='best')"
      ]
     },
     "execution_count": 51,
     "metadata": {},
     "output_type": "execute_result"
    }
   ],
   "source": [
    "# fit the regressor with X and Y data \n",
    "tree.fit(X_train_l2, y_train_l2) "
   ]
  },
  {
   "cell_type": "markdown",
   "metadata": {},
   "source": [
    "* Utilizando o modelo treinado em um conjunto de entradas para teste"
   ]
  },
  {
   "cell_type": "code",
   "execution_count": 52,
   "metadata": {},
   "outputs": [],
   "source": [
    "y_predict_tree_l2= tree.predict(X_test_l2)\n"
   ]
  },
  {
   "cell_type": "markdown",
   "metadata": {},
   "source": [
    "* Avaliando a \"acuracia\" do modelo "
   ]
  },
  {
   "cell_type": "code",
   "execution_count": 53,
   "metadata": {},
   "outputs": [
    {
     "name": "stdout",
     "output_type": "stream",
     "text": [
      "0.6387114337709214\n"
     ]
    }
   ],
   "source": [
    "print(r2_score(y_test_l2,y_predict_tree_l2))"
   ]
  },
  {
   "cell_type": "markdown",
   "metadata": {},
   "source": [
    "* Avaliacao visual dos dados preditos pelo modelo por arvore "
   ]
  },
  {
   "cell_type": "code",
   "execution_count": 54,
   "metadata": {},
   "outputs": [
    {
     "data": {
      "image/png": "[encoded data removed]",
      "text/plain": [
       "<Figure size 1080x360 with 1 Axes>"
      ]
     },
     "metadata": {},
     "output_type": "display_data"
    }
   ],
   "source": [
    "fig,axis = plt.subplots(figsize=(15,5))\n",
    "plt.scatter(X_test_l2,y_test_l2, color = 'b', label='Conjunto de teste')\n",
    "plt.scatter(X_test_l2, y_predict_tree_l2, color ='y', label='Predicao por arvore de regressao')\n",
    "plt.title('Arvore de Decisao e Dados para teste')\n",
    "\n",
    "plt.xlabel('Idade (dias)')\n",
    "plt.ylabel('Peso (gramas)')\n",
    "plt.legend()\n",
    "\n",
    "plt.grid(True)"
   ]
  },
  {
   "cell_type": "markdown",
   "metadata": {},
   "source": [
    "## Comparando com regularizacao"
   ]
  },
  {
   "cell_type": "code",
   "execution_count": 55,
   "metadata": {},
   "outputs": [
    {
     "name": "stdout",
     "output_type": "stream",
     "text": [
      "629086.1901685811\n",
      "629080.8785924163\n"
     ]
    },
    {
     "data": {
      "text/plain": [
       "<matplotlib.legend.Legend at 0x7f2c2831fb50>"
      ]
     },
     "execution_count": 55,
     "metadata": {},
     "output_type": "execute_result"
    },
    {
     "data": {
      "image/png": "[encoded data removed]",
      "text/plain": [
       "<Figure size 432x288 with 1 Axes>"
      ]
     },
     "metadata": {},
     "output_type": "display_data"
    }
   ],
   "source": [
    "depth_test =  np.linspace(1., 50., num=100)\n",
    "\n",
    "erros_train = []\n",
    "erros_test = []\n",
    "\n",
    "\n",
    "for depth in depth_test:\n",
    "    \n",
    "    #modelo_regularizado =  DecisionTreeRegressor(max_depth=depth).fit(X_train, y_train.values.ravel())\n",
    "    modelo_regularizado =  DecisionTreeRegressor(max_depth=depth).fit(X_train_l2, y_train_l2)\n",
    "    y_pred = modelo_regularizado.predict(X_test_l2)\n",
    "    \n",
    "    #erros\n",
    "    erros_train.append(mean_squared_error(y_train_l2, modelo_regularizado.predict(X_train_l2)))\n",
    "    erros_test.append(mean_squared_error(y_test_l2, y_pred))\n",
    "    \n",
    "    lastMSE = mean_squared_error(y_test_l2, y_pred)\n",
    "\n",
    "print(lastMSE)\n",
    "X_new = np.array(erros_test)\n",
    "\n",
    "print(np.amin(X_new))\n",
    "\n",
    "plt.plot(depth_test, erros_train,color='y',label='regularizado_train')\n",
    "plt.plot(depth_test, erros_test,color='r',label='regularizado_test')    \n",
    "plt.xlabel('max depth')\n",
    "plt.ylabel('mse')\n",
    "plt.legend()"
   ]
  },
  {
   "cell_type": "code",
   "execution_count": 56,
   "metadata": {},
   "outputs": [],
   "source": [
    "# Modelo sem regularização\n",
    "tree = DecisionTreeRegressor()\n",
    "tree.fit(X_train, y_train)\n",
    "y_pred = tree.predict(X_test)\n",
    "r2_tree = r2_score(y_test, y_pred)\n",
    "\n",
    "# Modelo com profundidade máxima igual a 1\n",
    "tree_dep1 = DecisionTreeRegressor(max_depth=1)\n",
    "tree_dep1.fit(X_train, y_train)\n",
    "y_pred_dep1 = tree_dep1.predict(X_test)\n",
    "r2_tree_dep1 = r2_score(y_test, y_pred_dep1)"
   ]
  },
  {
   "cell_type": "code",
   "execution_count": 57,
   "metadata": {},
   "outputs": [
    {
     "name": "stdout",
     "output_type": "stream",
     "text": [
      "R2 - Sem regularização: 0.5815460271427433\n",
      "R2 - Com regularização: 0.5815460271427433\n",
      "R2 - Produndidade igual a 1: 0.44148582748901544\n"
     ]
    },
    {
     "data": {
      "image/png": "[encoded data removed]",
      "text/plain": [
       "<Figure size 432x288 with 1 Axes>"
      ]
     },
     "metadata": {},
     "output_type": "display_data"
    }
   ],
   "source": [
    "print('R2 - Sem regularização:', r2_tree)\n",
    "print('R2 - Com regularização:', r2_tree)\n",
    "print('R2 - Produndidade igual a 1:', r2_tree_dep1)\n",
    "\n",
    "\n",
    "fig,axs = plt.subplots()\n",
    "axs.plot(depth_test,erros_train)\n",
    "axs.plot(depth_test,erros_test)\n",
    "axs.set_xlabel('Profundidade')\n",
    "axs.set_ylabel('R^2')\n",
    "axs.legend(['treino','teste'])\n",
    "axs.grid('on')"
   ]
  },
  {
   "cell_type": "markdown",
   "metadata": {},
   "source": [
    "* O R2 com regulazicao e sem regularizacao apresentam os mesmos valores. Em conclusao, a arvore realizou a poda dos galhos menos significativos."
   ]
  }
 ],
 "metadata": {
  "kernelspec": {
   "display_name": "Python 3",
   "language": "python",
   "name": "python3"
  },
  "language_info": {
   "codemirror_mode": {
    "name": "ipython",
    "version": 3
   },
   "file_extension": ".py",
   "mimetype": "text/x-python",
   "name": "python",
   "nbconvert_exporter": "python",
   "pygments_lexer": "ipython3",
   "version": "3.7.6"
  }
 },
 "nbformat": 4,
 "nbformat_minor": 2
}
