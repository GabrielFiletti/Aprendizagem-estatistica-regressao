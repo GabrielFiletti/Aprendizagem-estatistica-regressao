{
 "cells": [
  {
   "cell_type": "code",
   "execution_count": 1,
   "metadata": {
    "jupyter": {
     "outputs_hidden": false,
     "source_hidden": false
    },
    "nteract": {
     "transient": {
      "deleting": false
     }
    }
   },
   "outputs": [],
   "source": [
    "import pandas as pd\n",
    "import numpy as np\n",
    "import matplotlib.pyplot as plt\n",
    "\n",
    "from IPython.display import Image, display\n"
   ]
  },
  {
   "cell_type": "code",
   "execution_count": 2,
   "metadata": {
    "jupyter": {
     "outputs_hidden": false,
     "source_hidden": false
    },
    "nteract": {
     "transient": {
      "deleting": false
     }
    }
   },
   "outputs": [],
   "source": [
    "caminho = \"\"\n",
    "#se o inicializar o conda+jupyter pelo terminal:  colocar caminho = \"\" \n",
    "arquivo =\"ToolDataSheetVsNQuebras.csv\" #<- arquivo a ser utilizado"
   ]
  },
  {
   "cell_type": "markdown",
   "metadata": {
    "nteract": {
     "transient": {
      "deleting": false
     }
    }
   },
   "source": [
    "### Variável dependente (para predição -y-):\n",
    "*Número de quebras por ano*: `nQuebras`\n",
    "\n",
    "### Chave primária: \n",
    "*código do tipo da ferramenta*:  `PartNumber`\n",
    "\n",
    "### Variáveis independentes:\n",
    "*geometria e parâmetros da ferramenta de corte* \n",
    "\n",
    "1. `LargerDiameter`\n",
    "2. `StemDiameter`\n",
    "3. `TotalLength`\n",
    "4. `ChannelLength`"
   ]
  },
  {
   "cell_type": "code",
   "execution_count": 3,
   "metadata": {
    "jupyter": {
     "outputs_hidden": false,
     "source_hidden": false
    },
    "nteract": {
     "transient": {
      "deleting": false
     }
    }
   },
   "outputs": [],
   "source": [
    "# display(Image(caminho+\"usinagem_geo.PNG\"))"
   ]
  },
  {
   "cell_type": "code",
   "execution_count": 4,
   "metadata": {
    "jupyter": {
     "outputs_hidden": false,
     "source_hidden": false
    },
    "nteract": {
     "transient": {
      "deleting": false
     }
    }
   },
   "outputs": [],
   "source": [
    "dadosB = None\n",
    "\n",
    "try:  # carrega dos dados , o separador é \";\" pois tem campos na coluna Supplier com \",\"\n",
    "    dadosB = pd.read_csv(caminho+arquivo, sep=\";\")\n",
    "except IOError as err:\n",
    "    print (err)"
   ]
  },
  {
   "cell_type": "code",
   "execution_count": 5,
   "metadata": {
    "jupyter": {
     "outputs_hidden": false,
     "source_hidden": false
    },
    "nteract": {
     "transient": {
      "deleting": false
     }
    }
   },
   "outputs": [],
   "source": [
    "dadosB = dadosB[dadosB.PropellerAngle <= 360] #remove os demais dados incorretos"
   ]
  },
  {
   "cell_type": "code",
   "execution_count": 6,
   "metadata": {
    "jupyter": {
     "outputs_hidden": false,
     "source_hidden": false
    },
    "nteract": {
     "transient": {
      "deleting": false
     }
    }
   },
   "outputs": [
    {
     "data": {
      "text/html": [
       "<div>\n",
       "<style scoped>\n",
       "    .dataframe tbody tr th:only-of-type {\n",
       "        vertical-align: middle;\n",
       "    }\n",
       "\n",
       "    .dataframe tbody tr th {\n",
       "        vertical-align: top;\n",
       "    }\n",
       "\n",
       "    .dataframe thead th {\n",
       "        text-align: right;\n",
       "    }\n",
       "</style>\n",
       "<table border=\"1\" class=\"dataframe\">\n",
       "  <thead>\n",
       "    <tr style=\"text-align: right;\">\n",
       "      <th></th>\n",
       "      <th>PartNumber</th>\n",
       "      <th>nQuebras</th>\n",
       "      <th>Family</th>\n",
       "      <th>Supplier</th>\n",
       "      <th>LargerDiameter</th>\n",
       "      <th>StemDiameter</th>\n",
       "      <th>TotalLength</th>\n",
       "      <th>ChannelLength</th>\n",
       "      <th>MaterialClass</th>\n",
       "      <th>PropellerAngle</th>\n",
       "      <th>Refrigeration</th>\n",
       "    </tr>\n",
       "  </thead>\n",
       "  <tbody>\n",
       "    <tr>\n",
       "      <td>0</td>\n",
       "      <td>4721700050</td>\n",
       "      <td>5</td>\n",
       "      <td>217-RH</td>\n",
       "      <td>3M TECHNICAL CERAMICS ZWEIGNIEDERLA</td>\n",
       "      <td>3.0</td>\n",
       "      <td>3.0</td>\n",
       "      <td>38.0</td>\n",
       "      <td>2.5</td>\n",
       "      <td>Desconhecido</td>\n",
       "      <td>0.0</td>\n",
       "      <td>0</td>\n",
       "    </tr>\n",
       "  </tbody>\n",
       "</table>\n",
       "</div>"
      ],
      "text/plain": [
       "   PartNumber  nQuebras  Family                             Supplier  \\\n",
       "0  4721700050         5  217-RH  3M TECHNICAL CERAMICS ZWEIGNIEDERLA   \n",
       "\n",
       "   LargerDiameter  StemDiameter  TotalLength  ChannelLength MaterialClass  \\\n",
       "0             3.0           3.0         38.0            2.5  Desconhecido   \n",
       "\n",
       "   PropellerAngle  Refrigeration  \n",
       "0             0.0              0  "
      ]
     },
     "execution_count": 6,
     "metadata": {},
     "output_type": "execute_result"
    }
   ],
   "source": [
    "dadosB.head(1)"
   ]
  },
  {
   "cell_type": "code",
   "execution_count": 95,
   "metadata": {
    "jupyter": {
     "outputs_hidden": false,
     "source_hidden": false
    },
    "nteract": {
     "transient": {
      "deleting": false
     }
    }
   },
   "outputs": [],
   "source": [
    "#requer sklearn:\n",
    "\n",
    "from sklearn.neighbors import KNeighborsRegressor\n",
    "from sklearn.tree import DecisionTreeRegressor\n",
    "from sklearn.linear_model import SGDRegressor\n",
    "from sklearn.metrics import r2_score\n",
    "from sklearn.metrics import mean_squared_error\n",
    "from sklearn.model_selection import train_test_split\n",
    "from sklearn import preprocessing\n",
    "from sklearn.model_selection import GridSearchCV\n",
    "\n",
    "def calc_rss(y,predicted):\n",
    "    return float(((predicted - y) ** 2).sum())\n"
   ]
  },
  {
   "cell_type": "code",
   "execution_count": 96,
   "metadata": {},
   "outputs": [],
   "source": [
    "X = dadosB.drop(columns=['nQuebras'])\n",
    "y = dadosB['nQuebras']\n",
    "le = preprocessing.LabelEncoder()\n",
    "# na in Material Class\n",
    "na_fill = {'MaterialClass': 'na'}\n",
    "X = X.fillna(value=na_fill)\n",
    "for col in ['Family', 'Supplier', 'MaterialClass']:\n",
    "    X[col] = le.fit_transform(X[col])\n",
    "\n"
   ]
  },
  {
   "cell_type": "code",
   "execution_count": 97,
   "metadata": {},
   "outputs": [],
   "source": [
    "X_train, X_test, y_train, y_test = train_test_split(X, y, test_size=0.3, random_state=101)"
   ]
  },
  {
   "cell_type": "code",
   "execution_count": 100,
   "metadata": {},
   "outputs": [
    {
     "data": {
      "text/plain": [
       "SGDRegressor(alpha=0.0001, average=False, early_stopping=False, epsilon=0.1,\n",
       "             eta0=0.01, fit_intercept=True, l1_ratio=0.15,\n",
       "             learning_rate='invscaling', loss='squared_loss', max_iter=5000,\n",
       "             n_iter_no_change=5, penalty='l2', power_t=0.25, random_state=None,\n",
       "             shuffle=True, tol=0.001, validation_fraction=0.1, verbose=0,\n",
       "             warm_start=False)"
      ]
     },
     "execution_count": 100,
     "metadata": {},
     "output_type": "execute_result"
    }
   ],
   "source": [
    "reg_grad = SGDRegressor(max_iter=5000)\n",
    "scaler = preprocessing.MinMaxScaler()\n",
    "X_scaled = scaler.fit_transform(X)\n",
    "# y_scaled = scaler.fit_transform(y.values.ravel())\n",
    "X_train_s, X_test_s, y_train_s, y_test_s = train_test_split(X, y, test_size=0.3, random_state=101)\n",
    "reg_grad.fit(X_train_s,y_train_s.values.ravel())"
   ]
  },
  {
   "cell_type": "code",
   "execution_count": 101,
   "metadata": {},
   "outputs": [
    {
     "name": "stdout",
     "output_type": "stream",
     "text": [
      "-2.663272629475968e+46\n",
      "2.020361306894842e+50\n",
      "1.333438462550596e+52\n"
     ]
    }
   ],
   "source": [
    "print(r2_score(y_test_s, reg_grad.predict(X_test_s)))\n",
    "print(mean_squared_error(y_test_s, reg_grad.predict(X_test_s)))\n",
    "print(calc_rss(y_test_s, reg_grad.predict(X_test_s)))"
   ]
  },
  {
   "cell_type": "code",
   "execution_count": 89,
   "metadata": {},
   "outputs": [
    {
     "name": "stdout",
     "output_type": "stream",
     "text": [
      "K: 1\n",
      "-0.10950846521041524\n",
      "8416.742424242424\n",
      "555505.0\n",
      "K: 2\n",
      "-0.3687795849616853\n",
      "10383.575757575758\n",
      "685316.0\n",
      "K: 3\n",
      "-0.1787350008543993\n",
      "8941.895622895623\n",
      "590165.1111111111\n",
      "K: 4\n",
      "-0.1281454930993391\n",
      "8558.123106060606\n",
      "564836.125\n",
      "K: 5\n",
      "-0.06372346757388381\n",
      "8069.416969696972\n",
      "532581.5200000001\n",
      "K: 6\n",
      "-0.08057900530171391\n",
      "8197.283249158249\n",
      "541020.6944444444\n",
      "K: 7\n",
      "-0.13867222141681212\n",
      "8637.978973407548\n",
      "570106.6122448981\n",
      "K: 8\n",
      "-0.12649847206780174\n",
      "8545.628787878788\n",
      "564011.5\n",
      "K: 9\n",
      "-0.11962637724107217\n",
      "8493.497007108119\n",
      "560570.8024691358\n"
     ]
    }
   ],
   "source": [
    "for i in range(1,10):\n",
    "    print('K: {}'.format(i))\n",
    "    neigh = KNeighborsRegressor(n_neighbors=i).fit(X_train,y_train)\n",
    "    print(r2_score(y_test, neigh.predict(X_test)))\n",
    "    print(mean_squared_error(y_test, neigh.predict(X_test)))\n",
    "    print(calc_rss(y_test, neigh.predict(X_test)))"
   ]
  },
  {
   "cell_type": "code",
   "execution_count": 90,
   "metadata": {},
   "outputs": [
    {
     "name": "stdout",
     "output_type": "stream",
     "text": [
      "-0.20118239981891173\n",
      "9112.181818181818\n",
      "601404.0\n"
     ]
    }
   ],
   "source": [
    "tree = DecisionTreeRegressor().fit(X_train,y_train)\n",
    "print(r2_score(y_test, tree.predict(X_test)))\n",
    "print(mean_squared_error(y_test, tree.predict(X_test)))\n",
    "print(calc_rss(y_test, tree.predict(X_test)))"
   ]
  },
  {
   "cell_type": "code",
   "execution_count": 91,
   "metadata": {},
   "outputs": [
    {
     "name": "stdout",
     "output_type": "stream",
     "text": [
      "-0.14464656024737566\n",
      "8683.300368123058\n",
      "573097.8242961218\n",
      "Feature: ChannelLength Importance: 0.7255380506199045\n",
      "Feature: LargerDiameter Importance: 0.09658418364667912\n",
      "Feature: TotalLength Importance: 0.07456410916641389\n",
      "Feature: PartNumber Importance: 0.045129835881762705\n",
      "Feature: StemDiameter Importance: 0.037313296997206175\n",
      "Feature: Family Importance: 0.010433092185039102\n",
      "Feature: Supplier Importance: 0.008442692038005772\n",
      "Feature: MaterialClass Importance: 0.0018526565446770138\n",
      "Feature: PropellerAngle Importance: 0.00014208292031168957\n",
      "Feature: Refrigeration Importance: 0.0\n"
     ]
    }
   ],
   "source": [
    "from sklearn.ensemble import RandomForestRegressor\n",
    "regr = RandomForestRegressor(n_estimators=100, max_depth=2, random_state=0, n_jobs=12)\n",
    "regr.fit(X_train, y_train)\n",
    "print(r2_score(y_test, regr.predict(X_test)))\n",
    "print(mean_squared_error(y_test, regr.predict(X_test)))\n",
    "print(calc_rss(y_test, regr.predict(X_test)))\n",
    "\n",
    "ft = {}\n",
    "for col, imp in zip(list(X), regr.feature_importances_):\n",
    "    ft[col] = imp\n",
    "\n",
    "# sort by feature importance    \n",
    "ft = {k: v for k, v in sorted(ft.items(), key=lambda item: item[1], reverse=True)}\n",
    "\n",
    "for k,v in ft.items():\n",
    "    print(\"Feature: {} Importance: {}\".format(k, v))"
   ]
  },
  {
   "cell_type": "code",
   "execution_count": 92,
   "metadata": {},
   "outputs": [
    {
     "name": "stdout",
     "output_type": "stream",
     "text": [
      "10\n"
     ]
    },
    {
     "name": "stderr",
     "output_type": "stream",
     "text": [
      "/home/vitorbezerra/miniconda3/envs/amb1/lib/python3.7/site-packages/ipykernel_launcher.py:7: DataConversionWarning: A column-vector y was passed when a 1d array was expected. Please change the shape of y to (n_samples,), for example using ravel().\n",
      "  import sys\n"
     ]
    },
    {
     "name": "stdout",
     "output_type": "stream",
     "text": [
      "-0.08190328791251145\n",
      "8207.32927042035\n",
      "37797082.76406717\n",
      "100\n"
     ]
    },
    {
     "name": "stderr",
     "output_type": "stream",
     "text": [
      "/home/vitorbezerra/miniconda3/envs/amb1/lib/python3.7/site-packages/ipykernel_launcher.py:7: DataConversionWarning: A column-vector y was passed when a 1d array was expected. Please change the shape of y to (n_samples,), for example using ravel().\n",
      "  import sys\n"
     ]
    },
    {
     "name": "stdout",
     "output_type": "stream",
     "text": [
      "-0.07630848605320795\n",
      "8164.887047002524\n",
      "38330041.47370563\n",
      "1000\n"
     ]
    },
    {
     "name": "stderr",
     "output_type": "stream",
     "text": [
      "/home/vitorbezerra/miniconda3/envs/amb1/lib/python3.7/site-packages/ipykernel_launcher.py:7: DataConversionWarning: A column-vector y was passed when a 1d array was expected. Please change the shape of y to (n_samples,), for example using ravel().\n",
      "  import sys\n"
     ]
    },
    {
     "name": "stdout",
     "output_type": "stream",
     "text": [
      "-0.0850115934732889\n",
      "8230.908907801435\n",
      "38695024.28771488\n"
     ]
    },
    {
     "data": {
      "text/plain": [
       "Text(0, 0.5, 'nQuebras')"
      ]
     },
     "execution_count": 92,
     "metadata": {},
     "output_type": "execute_result"
    },
    {
     "data": {
      "image/png": "[encoded data removed]",
      "text/plain": [
       "<Figure size 432x288 with 1 Axes>"
      ]
     },
     "metadata": {
      "needs_background": "light"
     },
     "output_type": "display_data"
    }
   ],
   "source": [
    "X = dadosB['ChannelLength']\n",
    "y = dadosB['nQuebras']\n",
    "X_train, X_test, y_train, y_test = train_test_split(X, y, test_size=0.3, random_state=101)\n",
    "for i in [10,100, 1000]:\n",
    "    print(i)\n",
    "    regr = RandomForestRegressor(n_estimators=i, max_depth=2, random_state=0, n_jobs=12)\n",
    "    regr.fit(X_train.values.reshape(-1, 1), y_train.values.reshape(-1, 1))\n",
    "    print(r2_score(y_test.values.reshape(-1, 1), regr.predict(X_test.values.reshape(-1, 1))))\n",
    "    print(mean_squared_error(y_test.values.reshape(-1, 1), regr.predict(X_test.values.reshape(-1, 1))))\n",
    "    print(calc_rss(y_test.values.reshape(-1, 1), regr.predict(X_test.values.reshape(-1, 1))))\n",
    "    \n",
    "plt.scatter(X_test.values.reshape(-1, 1), y_test.values.reshape(-1, 1),color='g')\n",
    "plt.plot(X_test.values.reshape(-1, 1), regr.predict(X_test.values.reshape(-1, 1)),color='k')\n",
    "plt.xlabel('ChannelLength')\n",
    "plt.ylabel('nQuebras')    \n",
    "\n"
   ]
  },
  {
   "cell_type": "code",
   "execution_count": 44,
   "metadata": {},
   "outputs": [
    {
     "name": "stdout",
     "output_type": "stream",
     "text": [
      "['mean_fit_time', 'mean_score_time', 'mean_test_score', 'param_n_neighbors', 'params', 'rank_test_score', 'split0_test_score', 'split1_test_score', 'split2_test_score', 'std_fit_time', 'std_score_time', 'std_test_score']\n"
     ]
    },
    {
     "name": "stderr",
     "output_type": "stream",
     "text": [
      "/home/vitorbezerra/miniconda3/envs/amb1/lib/python3.7/site-packages/sklearn/model_selection/_split.py:1978: FutureWarning: The default value of cv will change from 3 to 5 in version 0.22. Specify it explicitly to silence this warning.\n",
      "  warnings.warn(CV_WARNING, FutureWarning)\n"
     ]
    }
   ],
   "source": [
    "parameters = {'n_neighbors':[1, 10]}\n",
    "knn = KNeighborsRegressor()\n",
    "clf = GridSearchCV(knn, parameters)\n",
    "clf.fit(X, y)\n",
    "print(sorted(clf.cv_results_.keys()))\n"
   ]
  },
  {
   "cell_type": "code",
   "execution_count": null,
   "metadata": {},
   "outputs": [],
   "source": []
  },
  {
   "cell_type": "code",
   "execution_count": 8,
   "metadata": {
    "jupyter": {
     "outputs_hidden": false,
     "source_hidden": false
    },
    "nteract": {
     "transient": {
      "deleting": false
     }
    }
   },
   "outputs": [],
   "source": [
    "#funções utilitárias:\n",
    "\n",
    "def get(data, coluna): return data.loc[:,[coluna]] #pega a coluna de um conteiner do pandas e retorna um novo DataFrame\n",
    "\n",
    "def rss(y,predicted):\n",
    "    return float(((predicted - y) ** 2.0).sum())\n",
    "\n",
    "def norm(vetor): return vetor/(vetor.max()) #normaliza caso o vetor/variavel tenha o método max()\n",
    "\n",
    "def calc_rss(y, predicted): return rss( norm (y), norm (predicted)) #normaliza e calcular RSS\n",
    "\n",
    "def doMatPlotText(texto, x=0.5, y=0.5, cor='red'): plt.text(x,y, texto, horizontalalignment='center', verticalalignment='center', bbox=dict(facecolor=cor, alpha=0.5))\n",
    "    \n",
    "def ordemZero(x, s=500): #plota o gráfico da predição interpolando os valores\n",
    "    return np.linspace(\n",
    "        min(x.values.ravel()),\n",
    "        max(x.values.ravel()), s )[:, np.newaxis]"
   ]
  },
  {
   "cell_type": "code",
   "execution_count": 9,
   "metadata": {
    "jupyter": {
     "outputs_hidden": false,
     "source_hidden": false
    },
    "nteract": {
     "transient": {
      "deleting": false
     }
    }
   },
   "outputs": [],
   "source": [
    "def knn_plotter(xx,yy,dataset, kernel=None, titulo=\" \"):\n",
    "    \"\"\"\n",
    "    Faz a regressão indicando o objeto em kernel com uma base de dados, a coluna X e a predicao Y\n",
    "\n",
    "    Keyword arguments:\n",
    "    xx -- str: variavel independente (nome da coluna da base de dados)\n",
    "    yy -- str: variavel dependente  (nome da coluna para predicao)\n",
    "    dataset -- pandas.Dataframe : conjunto de dados do Pandas (requer as series xx e yy), exemplo: KNeighborsRegressor(n_neighbors=3)\n",
    "    titulo -- str: titulo do grafico (suporta subplot)\n",
    "    \n",
    "    \"\"\"\n",
    "    (varXnome,varYnome) = (xx , yy)\n",
    "  \n",
    "    X_knn, Y_knn = ( get(dataset,varXnome), get(dataset,varYnome) )\n",
    "    \n",
    "    KnnModel = kernel \n",
    "\n",
    "    KnnModel.fit(X_knn, Y_knn )\n",
    "\n",
    "    Yp_knn = KnnModel.predict( X_knn )\n",
    "  \n",
    "    Yp_knn_interpol = KnnModel.predict( ordemZero( X_knn ) ).flatten()\n",
    "\n",
    "    knn_rss = 0.0\n",
    "    \n",
    "    try: #algumas classes do sklearn não retornam array, e sim uma serie de dados:\n",
    "        knn_rss = calc_rss(Y_knn, Yp_knn)\n",
    "    except:\n",
    "        knn_rss = calc_rss(Y_knn[yy], Yp_knn)\n",
    "  \n",
    "    mlabel =  \"rss={0:.3f}\".format(knn_rss)     #colocar o rss numa legenda do plt   \n",
    "\n",
    "    plt.plot( X_knn, Y_knn, \"db\", label=\"ori.\"); \n",
    "    plt.title(titulo)\n",
    "    plt.plot(ordemZero( X_knn ), \n",
    "             Yp_knn_interpol, \"--r\", label=mlabel); \n",
    "    plt.xlabel(varXnome); plt.ylabel(varYnome);\n",
    "    plt.legend(); plt.grid();\n",
    "    "
   ]
  },
  {
   "cell_type": "code",
   "execution_count": 10,
   "metadata": {
    "jupyter": {
     "outputs_hidden": false,
     "source_hidden": false
    },
    "nteract": {
     "transient": {
      "deleting": false
     }
    }
   },
   "outputs": [
    {
     "data": {
      "image/png": "[encoded data removed]",
      "text/plain": [
       "<Figure size 432x288 with 1 Axes>"
      ]
     },
     "metadata": {
      "needs_background": "light"
     },
     "output_type": "display_data"
    }
   ],
   "source": [
    "k=3\n",
    "metodo='distance'\n",
    "KnnModel = KNeighborsRegressor(n_neighbors=k,weights=metodo)\n",
    "knn_plotter('TotalLength','nQuebras',dadosB, KnnModel, titulo=\"k={0}, {1}\".format(k,metodo))"
   ]
  },
  {
   "cell_type": "code",
   "execution_count": 11,
   "metadata": {
    "jupyter": {
     "outputs_hidden": false,
     "source_hidden": false
    },
    "nteract": {
     "transient": {
      "deleting": false
     }
    }
   },
   "outputs": [
    {
     "data": {
      "image/png": "[encoded data removed]",
      "text/plain": [
       "<Figure size 432x288 with 1 Axes>"
      ]
     },
     "metadata": {
      "needs_background": "light"
     },
     "output_type": "display_data"
    }
   ],
   "source": [
    "k=3\n",
    "metodo='uniform'\n",
    "KnnModel = KNeighborsRegressor(n_neighbors=k,weights=metodo)\n",
    "knn_plotter('TotalLength','nQuebras',dadosB, KnnModel, titulo=\"k={0}, {1}\".format(k,metodo))"
   ]
  },
  {
   "cell_type": "code",
   "execution_count": null,
   "metadata": {
    "jupyter": {
     "outputs_hidden": false,
     "source_hidden": false
    },
    "nteract": {
     "transient": {
      "deleting": false
     }
    }
   },
   "outputs": [],
   "source": []
  }
 ],
 "metadata": {
  "kernel_info": {
   "name": "python2"
  },
  "kernelspec": {
   "display_name": "Python [conda env:amb1] *",
   "language": "python",
   "name": "conda-env-amb1-py"
  },
  "language_info": {
   "codemirror_mode": {
    "name": "ipython",
    "version": 3
   },
   "file_extension": ".py",
   "mimetype": "text/x-python",
   "name": "python",
   "nbconvert_exporter": "python",
   "pygments_lexer": "ipython3",
   "version": "3.7.4"
  },
  "nteract": {
   "version": "0.21.0"
  }
 },
 "nbformat": 4,
 "nbformat_minor": 1
}
